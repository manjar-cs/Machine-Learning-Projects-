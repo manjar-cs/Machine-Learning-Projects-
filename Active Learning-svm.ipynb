{
 "cells": [
  {
   "cell_type": "markdown",
   "metadata": {},
   "source": [
    "### 2. Active Learning Using Support Vector Machines \n",
    "\n",
    "#### (a) Download the banknote authentication Data Set from: https://archive.ics.uci.edu/ml/datasets/banknote+authentication. Choose 472 data points randomly as the test set, and the remaining 900 points as the training set. This is a binary classification problem."
   ]
  },
  {
   "cell_type": "code",
   "execution_count": 1,
   "metadata": {},
   "outputs": [],
   "source": [
    "import pandas as pd\n",
    "import numpy as np \n",
    "from sklearn.model_selection import StratifiedKFold\n",
    "from sklearn.model_selection import GridSearchCV\n",
    "from sklearn import svm\n",
    "from sklearn.metrics import accuracy_score\n",
    "import random\n",
    "import warnings \n",
    "warnings.filterwarnings(\"ignore\")"
   ]
  },
  {
   "cell_type": "code",
   "execution_count": 2,
   "metadata": {},
   "outputs": [],
   "source": [
    "df=pd.read_csv('data.txt',header=None,names=['var','skew','curt','entr','class'])"
   ]
  },
  {
   "cell_type": "code",
   "execution_count": 3,
   "metadata": {},
   "outputs": [],
   "source": [
    "test=df.sample(472)\n",
    "index_test=test.index"
   ]
  },
  {
   "cell_type": "code",
   "execution_count": 4,
   "metadata": {},
   "outputs": [],
   "source": [
    "train= df.drop(index=index_test)"
   ]
  },
  {
   "cell_type": "code",
   "execution_count": 5,
   "metadata": {},
   "outputs": [],
   "source": [
    "y_test=test.iloc[:,-1:]\n",
    "x_test=test.iloc[:,:-1]\n",
    "y_train=train.iloc[:,-1:]\n",
    "x_train=train.iloc[:,:-1]\n",
    "x_train=x_train.reset_index(drop=True)\n",
    "y_train=y_train.reset_index(drop=True)\n",
    "x_test=x_test.reset_index(drop=True)\n",
    "y_test=y_test.reset_index(drop=True)"
   ]
  },
  {
   "cell_type": "markdown",
   "metadata": {},
   "source": [
    "### (b) Repeat each of the following two procedures 50 times. You will have 50 errors for 90 SVMs per each procedure.\n",
    "\n",
    "#### i. Train a SVM with a pool of 10 randomly selected data points from the training set using linear kernel and L1 penalty. Select the penalty parameter using 10-fold cross validation.2 Repeat this process by adding 10 other randomly selected data points to the pool, until you use all the 900 points. Do NOT replace the samples back into the training set at each step. Calculate the test error for each SVM. You will have 90 SVMs that were trained using 10,20, 30, ... , 900 data points and their 90 test errors. You have implemented passive learning.\n"
   ]
  },
  {
   "cell_type": "code",
   "execution_count": 6,
   "metadata": {},
   "outputs": [],
   "source": [
    "\n",
    "df_acs1=pd.DataFrame()\n",
    "for x in range(0,50):\n",
    "    acs1=[]\n",
    "    x_tr=pd.DataFrame()\n",
    "    y_tr=pd.DataFrame()\n",
    "    skf=StratifiedKFold(n_splits=90)\n",
    "    cv=5\n",
    "    for train_index, tr_index_10 in skf.split(x_train, y_train):\n",
    "            #print(type(x_tr))\n",
    "            x_tr=pd.concat([x_tr,x_train.iloc[tr_index_10,:]])\n",
    "            #print(x_tr)\n",
    "            y_tr=pd.concat([y_tr,y_train.iloc[tr_index_10]])\n",
    "           # print(y_tr)\n",
    "            parameters = [{'C': [0.1,0.001,1, 10, 100, 1000],'max_iter':[2000]} ]\n",
    "            model = GridSearchCV(svm.LinearSVC(penalty='l1',dual=False),parameters,cv=cv)\n",
    "            cv=10\n",
    "            model.fit(x_tr, y_tr.values.ravel())\n",
    "    \n",
    "            #calculating train parameters\n",
    "            pred_y = model.predict(x_test)\n",
    "            acs1.append(accuracy_score(y_test, pred_y)) \n",
    "    df_acs1=pd.concat([df_acs1,pd.DataFrame(acs1)],axis=1)"
   ]
  },
  {
   "cell_type": "markdown",
   "metadata": {},
   "source": [
    "#### ii. Train a SVM with a pool of 10 randomly selected data points from the training set3 using linear kernel and L1 penalty. Select the parameters of the SVM with 10-fold cross validation. Choose the 10 closest data points in the training set to the hyperplane of the SVM4 and add them to the pool. Do not replace the samples back into the training set. Train a new SVM using the pool.Repeat this process until all training data is used. You will have 90 SVMs that were trained using 10, 20, 30,..., 900 data points and their 90 test errors.You have implemented active learning."
   ]
  },
  {
   "cell_type": "code",
   "execution_count": 7,
   "metadata": {},
   "outputs": [],
   "source": [
    "df_acs=pd.DataFrame()\n",
    "for x in range(0,50):\n",
    "    test=df.sample(472)\n",
    "    index_test=test.index\n",
    "    train= df.drop(index=index_test)\n",
    "    y_test=test.iloc[:,-1:]\n",
    "    x_test=test.iloc[:,:-1]\n",
    "    y_train=train.iloc[:,-1:]\n",
    "    x_train=train.iloc[:,:-1]\n",
    "    x_tr=pd.DataFrame()\n",
    "    y_tr=pd.DataFrame()\n",
    "    acs=[]\n",
    "    skf=StratifiedKFold(n_splits=90)\n",
    "    cv=2\n",
    "    for train_index, tr_index_10 in skf.split(x_train, y_train):\n",
    "       # print(tr_index_10)\n",
    "        x_tr=x_train.iloc[tr_index_10,:]\n",
    "        y_tr=y_train.iloc[tr_index_10,:]\n",
    "        #print(y_tr)\n",
    "        break\n",
    "    for x in range(0,90):\n",
    "        #print(x)\n",
    "        x_train=x_train.reset_index(drop=True)\n",
    "        y_train=y_train.reset_index(drop=True)\n",
    "        x_test=x_test.reset_index(drop=True)\n",
    "        y_test=y_test.reset_index(drop=True)\n",
    "        parameters = [{'C': [0.1,0.001,1, 10, 100, 1000],'max_iter':[2000]} ]\n",
    "        model = GridSearchCV(svm.LinearSVC(penalty='l1',dual=False),parameters,cv=cv)\n",
    "        cv=10\n",
    "        #print('Grid')\n",
    "        model.fit(x_tr, y_tr.values.ravel())           \n",
    "        dist=pd.DataFrame(abs(model.decision_function(x_train)))\n",
    "        dist_sort= dist.sort_values(0) \n",
    "        dist_sort=dist_sort.iloc[0:10,:]\n",
    "        indexes=dist_sort.index\n",
    "\n",
    "        #print(y_train.iloc[230,:])\n",
    "        x_tr=pd.concat([x_tr,x_train.iloc[indexes,:]],axis=0)\n",
    "        y_tr=pd.concat([y_tr,y_train.iloc[indexes,:]],axis=0)\n",
    "        x_tr.reset_index(drop=True,inplace=True)\n",
    "        y_tr.reset_index(drop=True,inplace=True)\n",
    "        x_train=x_train.drop(index=indexes) \n",
    "        y_train=y_train.drop(index=indexes)\n",
    "        #calculating train parameters\n",
    "        pred_y = model.predict(x_test)\n",
    "        acs.append(accuracy_score(y_test, pred_y))\n",
    "    df_acs=pd.concat([df_acs,pd.DataFrame(acs)],axis=1)"
   ]
  },
  {
   "cell_type": "markdown",
   "metadata": {},
   "source": [
    "#### c) Average the 50 test errors for each of the incrementally trained 90 SVMs in 2(b)i and 2(b)ii. By doing so, you are performing a Monte Carlo simulation. Plot average test error versus number of training instances for both active and passive learners on the same figure and report your conclusions. Here, you are actually obtaining a learning curve by Monte-Carlo simulation.\n",
    "\n",
    "active performs well as it reaches minimum error rate faster than passive learning "
   ]
  },
  {
   "cell_type": "code",
   "execution_count": 8,
   "metadata": {},
   "outputs": [],
   "source": [
    "avg2=np.mean(df_acs,axis=1)\n",
    "avg1=np.mean(df_acs1,axis=1)"
   ]
  },
  {
   "cell_type": "code",
   "execution_count": 10,
   "metadata": {},
   "outputs": [
    {
     "data": {
      "text/plain": [
       "Text(0,0.5,'Average Test Error')"
      ]
     },
     "execution_count": 10,
     "metadata": {},
     "output_type": "execute_result"
    },
    {
     "data": {
      "image/png": "[encoded data removed]",
      "text/plain": [
       "<Figure size 432x288 with 1 Axes>"
      ]
     },
     "metadata": {
      "needs_background": "light"
     },
     "output_type": "display_data"
    }
   ],
   "source": [
    "p = pd.DataFrame({'Passive_Learning':1-avg1, 'Active_Learning':1-avg2})\n",
    "\n",
    "ax = p.plot(style='-',title='Monte Carlo Simulation')\n",
    "#ax.tick_params()\n",
    "#ax.yscale(0.08)\n",
    "ax.set_xlabel(\"Number of Training Instances (10 - 90)\")\n",
    "ax.set_ylabel(\"Average Test Error\")\n"
   ]
  },
  {
   "cell_type": "code",
   "execution_count": null,
   "metadata": {},
   "outputs": [],
   "source": []
  }
 ],
 "metadata": {
  "kernelspec": {
   "display_name": "Python 3",
   "language": "python",
   "name": "python3"
  },
  "language_info": {
   "codemirror_mode": {
    "name": "ipython",
    "version": 3
   },
   "file_extension": ".py",
   "mimetype": "text/x-python",
   "name": "python",
   "nbconvert_exporter": "python",
   "pygments_lexer": "ipython3",
   "version": "3.7.0"
  }
 },
 "nbformat": 4,
 "nbformat_minor": 2
}
