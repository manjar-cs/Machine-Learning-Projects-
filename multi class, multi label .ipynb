{
 "cells": [
  {
   "cell_type": "markdown",
   "metadata": {},
   "source": [
    "## 1. Multi-class and Multi-Label Classification Using Support Vector Machines\n",
    "##### (a) Download the Anuran Calls (MFCCs) Data Set from: https://archive.ics.uci.edu/ml/datasets/Anuran+Calls+%28MFCCs%29. Choose 70% of the data randomly as the training set."
   ]
  },
  {
   "cell_type": "code",
   "execution_count": 3,
   "metadata": {},
   "outputs": [],
   "source": [
    "import pandas as pd\n",
    "import numpy as np\n",
    "from sklearn.model_selection import train_test_split\n",
    "from sklearn.model_selection import GridSearchCV\n",
    "from sklearn import svm\n",
    "from sklearn.metrics import classification_report\n",
    "from sklearn.metrics import hamming_loss\n",
    "from collections import defaultdict\n",
    "from sklearn import preprocessing\n",
    "from sklearn.cluster import KMeans\n",
    "from sklearn.metrics import silhouette_score\n",
    "from collections import defaultdict\n",
    "import statistics\n",
    "import random \n",
    "#from sklearn.metrics import hamming_loss"
   ]
  },
  {
   "cell_type": "markdown",
   "metadata": {},
   "source": [
    "## (b) Each instance has three labels: Families, Genus, and Species. Each of the labelshas multiple classes. We wish to solve a multi-class and multi-label problem.One of the most important approaches to multi-class classification is to train a classifier for each label. We first try this approach:\n",
    "\n",
    "#### i. Research exact match and hamming score/ loss methods for evaluating multilabel\n",
    "classification and use them in evaluating the classifiers in this problem.\n",
    "\n",
    "\n",
    "Exact match : indicates the percentage of samples that have all their labels classified correctly, disadvantage of this measure is that multi-class classification problems have a chance of being partially correct, but here we ignore those partially correct matches\n",
    "\n",
    "Hamming loss : Hamming-Loss is the fraction of labels that are incorrectly predicted"
   ]
  },
  {
   "cell_type": "markdown",
   "metadata": {},
   "source": [
    "#### ii. Train a SVM for each of the labels, using Gaussian kernels and one versus all classifiers. Determine the weight of the SVM penalty and the width of the Gaussian Kernel using 10 fold cross validation.1 You are welcome to try to solve the problem with both standardized 2 and raw attributes and report the results."
   ]
  },
  {
   "cell_type": "code",
   "execution_count": 4,
   "metadata": {},
   "outputs": [],
   "source": [
    "df=pd.read_csv('Frogs_MFCCs.csv')"
   ]
  },
  {
   "cell_type": "code",
   "execution_count": 5,
   "metadata": {},
   "outputs": [],
   "source": [
    "y=df[['Family','Genus','Species']]"
   ]
  },
  {
   "cell_type": "code",
   "execution_count": 6,
   "metadata": {},
   "outputs": [],
   "source": [
    "x=df.drop(['Family','Genus','Species','RecordID'],axis=1)\n",
    "x=preprocessing.scale(x)\n",
    "x_train, x_test, y_train, y_test = train_test_split(x, y, test_size=0.30, random_state=42)"
   ]
  },
  {
   "cell_type": "code",
   "execution_count": 7,
   "metadata": {},
   "outputs": [
    {
     "name": "stdout",
     "output_type": "stream",
     "text": [
      "Best parameters set found on development set for class Family :\n",
      "()\n",
      "{'kernel': 'rbf', 'C': 10, 'gamma': 0.1}\n",
      "                 precision    recall  f1-score   support\n",
      "\n",
      "      Bufonidae       1.00      0.89      0.94        27\n",
      "  Dendrobatidae       1.00      1.00      1.00       162\n",
      "        Hylidae       0.98      1.00      0.99       623\n",
      "Leptodactylidae       1.00      0.99      1.00      1347\n",
      "\n",
      "      micro avg       0.99      0.99      0.99      2159\n",
      "      macro avg       0.99      0.97      0.98      2159\n",
      "   weighted avg       0.99      0.99      0.99      2159\n",
      "\n",
      "The hamming distance for class 0.00741083835109\n",
      "Best parameters set found on development set for class Genus :\n",
      "()\n",
      "{'kernel': 'rbf', 'C': 10, 'gamma': 0.1}\n",
      "               precision    recall  f1-score   support\n",
      "\n",
      "    Adenomera       1.00      1.00      1.00      1251\n",
      "     Ameerega       1.00      1.00      1.00       162\n",
      "Dendropsophus       1.00      0.96      0.98        84\n",
      "    Hypsiboas       0.96      1.00      0.98       468\n",
      "Leptodactylus       1.00      0.96      0.98        96\n",
      "Osteocephalus       0.90      0.82      0.86        34\n",
      "     Rhinella       1.00      0.89      0.94        27\n",
      "       Scinax       1.00      0.92      0.96        37\n",
      "\n",
      "    micro avg       0.99      0.99      0.99      2159\n",
      "    macro avg       0.98      0.94      0.96      2159\n",
      " weighted avg       0.99      0.99      0.99      2159\n",
      "\n",
      "The hamming distance for class 0.0120426123205\n",
      "Best parameters set found on development set for class Species :\n",
      "()\n",
      "{'kernel': 'rbf', 'C': 1000, 'gamma': 0.01}\n",
      "                        precision    recall  f1-score   support\n",
      "\n",
      "        AdenomeraAndre       1.00      0.97      0.98       220\n",
      "AdenomeraHylaedactylus       1.00      1.00      1.00      1031\n",
      "    Ameeregatrivittata       0.99      1.00      0.99       162\n",
      "            HylaMinuta       0.98      0.98      0.98        84\n",
      "  HypsiboasCinerascens       0.95      0.98      0.96       135\n",
      "     HypsiboasCordobae       0.99      0.99      0.99       333\n",
      "   LeptodactylusFuscus       0.99      0.99      0.99        96\n",
      " OsteocephalusOophagus       0.88      0.88      0.88        34\n",
      "     Rhinellagranulosa       0.93      0.96      0.95        27\n",
      "           ScinaxRuber       1.00      0.95      0.97        37\n",
      "\n",
      "             micro avg       0.99      0.99      0.99      2159\n",
      "             macro avg       0.97      0.97      0.97      2159\n",
      "          weighted avg       0.99      0.99      0.99      2159\n",
      "\n",
      "The hamming distance for class 0.0106530801297\n"
     ]
    }
   ],
   "source": [
    "y_pred={}\n",
    "for i in ['Family','Genus','Species']:\n",
    "    parameters = [{'kernel': ['rbf'],\n",
    "               'gamma': [1e-4, 1e-3, 0.01, 0.1, 0.2, 0.5,10],\n",
    "                'C': [1, 10, 100, 1000]}]\n",
    "    clf = GridSearchCV(svm.SVC(decision_function_shape='ovr'), parameters,cv=10)\n",
    "    clf.fit(x_train, y_train[[i]])\n",
    "    print(\"Best parameters set found on development set for class {} :\".format(i))\n",
    "    print()\n",
    "    print(clf.best_params_)\n",
    "\n",
    "    y_pred[i] = clf.predict(x_test)\n",
    "    print(classification_report(y_test[[i]].values.ravel(), y_pred[i]))\n",
    "    print(\"The hamming distance for class {}\".format(hamming_loss(y_test[[i]].values.ravel(), y_pred[i])))"
   ]
  },
  {
   "cell_type": "code",
   "execution_count": 8,
   "metadata": {},
   "outputs": [
    {
     "name": "stdout",
     "output_type": "stream",
     "text": [
      "the exact match is: 0.981936081519\n"
     ]
    }
   ],
   "source": [
    "y_pred=pd.DataFrame(y_pred)\n",
    "df_match=pd.DataFrame()\n",
    "for i in ['Family','Genus','Species']:\n",
    "    df_match[i] = np.where(y_test[i] == y_pred[i],1,0)\n",
    "df_match['sum'] = df_match[['Family','Genus','Species']].sum(axis=1)\n",
    "em = np.where(df_match['sum']==3,1.0,0).sum(axis=0)/len(df_match)\n",
    "print(\"the exact match is: {}\".format(em))"
   ]
  },
  {
   "cell_type": "markdown",
   "metadata": {},
   "source": [
    "#### iii. Repeat 1(b)ii and L1-penalized SVMs. Remember to standardize the attributes"
   ]
  },
  {
   "cell_type": "code",
   "execution_count": 9,
   "metadata": {},
   "outputs": [
    {
     "name": "stdout",
     "output_type": "stream",
     "text": [
      "Best parameters set found on development set for class Family :\n",
      "()\n",
      "{'C': 1, 'max_iter': 2000}\n",
      "                 precision    recall  f1-score   support\n",
      "\n",
      "      Bufonidae       0.00      0.00      0.00        27\n",
      "  Dendrobatidae       0.86      0.90      0.88       162\n",
      "        Hylidae       0.89      0.90      0.90       623\n",
      "Leptodactylidae       0.96      0.96      0.96      1347\n",
      "\n",
      "      micro avg       0.93      0.93      0.93      2159\n",
      "      macro avg       0.68      0.69      0.68      2159\n",
      "   weighted avg       0.92      0.93      0.92      2159\n",
      "\n",
      "The hamming distance for class 0.0713293191292\n",
      "Best parameters set found on development set for class Genus :\n",
      "()\n",
      "{'C': 10, 'max_iter': 2000}\n",
      "               precision    recall  f1-score   support\n",
      "\n",
      "    Adenomera       0.97      0.98      0.97      1251\n",
      "     Ameerega       0.90      0.93      0.92       162\n",
      "Dendropsophus       0.87      0.71      0.78        84\n",
      "    Hypsiboas       0.91      0.97      0.94       468\n",
      "Leptodactylus       0.98      0.91      0.94        96\n",
      "Osteocephalus       0.94      0.50      0.65        34\n",
      "     Rhinella       1.00      0.26      0.41        27\n",
      "       Scinax       0.82      0.89      0.86        37\n",
      "\n",
      "    micro avg       0.94      0.94      0.94      2159\n",
      "    macro avg       0.92      0.77      0.81      2159\n",
      " weighted avg       0.94      0.94      0.94      2159\n",
      "\n",
      "The hamming distance for class 0.0583603520148\n",
      "Best parameters set found on development set for class Species :\n",
      "()\n",
      "{'C': 1, 'max_iter': 2000}\n",
      "                        precision    recall  f1-score   support\n",
      "\n",
      "        AdenomeraAndre       0.96      0.91      0.93       220\n",
      "AdenomeraHylaedactylus       0.99      1.00      0.99      1031\n",
      "    Ameeregatrivittata       0.90      0.94      0.92       162\n",
      "            HylaMinuta       0.90      0.77      0.83        84\n",
      "  HypsiboasCinerascens       0.92      0.96      0.94       135\n",
      "     HypsiboasCordobae       0.94      0.98      0.96       333\n",
      "   LeptodactylusFuscus       0.97      0.90      0.93        96\n",
      " OsteocephalusOophagus       0.96      0.65      0.77        34\n",
      "     Rhinellagranulosa       0.84      0.78      0.81        27\n",
      "           ScinaxRuber       0.90      0.95      0.92        37\n",
      "\n",
      "             micro avg       0.96      0.96      0.96      2159\n",
      "             macro avg       0.93      0.88      0.90      2159\n",
      "          weighted avg       0.96      0.96      0.96      2159\n",
      "\n",
      "The hamming distance for class 0.0412227883279\n"
     ]
    }
   ],
   "source": [
    "y_pred={}\n",
    "\n",
    "for i in ['Family','Genus','Species']:\n",
    "    parameters = [{'C': [1, 10, 100, 1000],'max_iter':[2000]}]\n",
    "    #clf_sets = [(LinearSVC(penalty='l1', loss='squared_hinge', dual=False,\n",
    "                      # tol=1e-3),\n",
    "    clf = GridSearchCV(svm.LinearSVC(multi_class='ovr',penalty='l1',dual=False), parameters,cv=10)\n",
    "    clf.fit(x_train, y_train[[i]])\n",
    "    print(\"Best parameters set found on development set for class {} :\".format(i))\n",
    "    print()\n",
    "    print(clf.best_params_)\n",
    "\n",
    "    y_pred[i] = clf.predict(x_test)\n",
    "    print(classification_report(y_test[[i]].values.ravel(), y_pred[i]))\n",
    "    print(\"The hamming distance for class {}\".format(hamming_loss(y_test[[i]].values.ravel(), y_pred[i])))\n"
   ]
  },
  {
   "cell_type": "code",
   "execution_count": 10,
   "metadata": {},
   "outputs": [
    {
     "name": "stdout",
     "output_type": "stream",
     "text": [
      "the exact match is: 0.913385826772\n"
     ]
    }
   ],
   "source": [
    "y_pred=pd.DataFrame(y_pred)\n",
    "df_match=pd.DataFrame()\n",
    "for i in ['Family','Genus','Species']:\n",
    "    df_match[i] = np.where(y_test[i] == y_pred[i],1,0)\n",
    "df_match['sum'] = df_match[['Family','Genus','Species']].sum(axis=1)\n",
    "em = np.where(df_match['sum']==3,1.0,0).sum(axis=0)/len(df_match)\n",
    "print(\"the exact match is: {}\".format(em))"
   ]
  },
  {
   "cell_type": "code",
   "execution_count": 11,
   "metadata": {},
   "outputs": [
    {
     "name": "stdout",
     "output_type": "stream",
     "text": [
      "Leptodactylidae    3073\n",
      "Hylidae            1542\n",
      "Dendrobatidae       380\n",
      "Bufonidae            41\n",
      "Name: Family, dtype: int64\n"
     ]
    }
   ],
   "source": [
    "print(y_train['Family'].value_counts())"
   ]
  },
  {
   "cell_type": "markdown",
   "metadata": {},
   "source": [
    "#### iv. Repeat 1(b)iii by using SMOTE or any other method you know to remedy class imbalance. Report your conclusions about the  classifiers you trained."
   ]
  },
  {
   "cell_type": "code",
   "execution_count": 12,
   "metadata": {},
   "outputs": [
    {
     "name": "stdout",
     "output_type": "stream",
     "text": [
      "Best parameters set found on development set for class Family :\n",
      "()\n",
      "{'C': 10, 'max_iter': 2000}\n",
      "                 precision    recall  f1-score   support\n",
      "\n",
      "      Bufonidae       0.33      0.93      0.49        27\n",
      "  Dendrobatidae       0.85      0.89      0.87       162\n",
      "        Hylidae       0.93      0.88      0.91       623\n",
      "Leptodactylidae       0.96      0.94      0.95      1347\n",
      "\n",
      "      micro avg       0.92      0.92      0.92      2159\n",
      "      macro avg       0.77      0.91      0.80      2159\n",
      "   weighted avg       0.94      0.92      0.93      2159\n",
      "\n",
      "The hamming distance for class 0.0782769800834\n",
      "Best parameters set found on development set for class Genus :\n",
      "()\n",
      "{'C': 10, 'max_iter': 2000}\n",
      "               precision    recall  f1-score   support\n",
      "\n",
      "    Adenomera       0.97      0.97      0.97      1251\n",
      "     Ameerega       0.90      0.91      0.90       162\n",
      "Dendropsophus       0.87      0.63      0.73        84\n",
      "    Hypsiboas       0.94      0.96      0.95       468\n",
      "Leptodactylus       0.98      0.88      0.92        96\n",
      "Osteocephalus       1.00      0.53      0.69        34\n",
      "     Rhinella       0.39      0.96      0.55        27\n",
      "       Scinax       0.82      0.89      0.86        37\n",
      "\n",
      "    micro avg       0.93      0.93      0.93      2159\n",
      "    macro avg       0.86      0.84      0.82      2159\n",
      " weighted avg       0.95      0.93      0.94      2159\n",
      "\n",
      "The hamming distance for class 0.065308012969\n",
      "Best parameters set found on development set for class Species :\n",
      "()\n",
      "{'C': 100, 'max_iter': 2000}\n",
      "                        precision    recall  f1-score   support\n",
      "\n",
      "        AdenomeraAndre       0.97      0.90      0.93       220\n",
      "AdenomeraHylaedactylus       0.99      1.00      0.99      1031\n",
      "    Ameeregatrivittata       0.91      0.94      0.92       162\n",
      "            HylaMinuta       0.91      0.70      0.79        84\n",
      "  HypsiboasCinerascens       0.94      0.96      0.95       135\n",
      "     HypsiboasCordobae       0.96      0.97      0.96       333\n",
      "   LeptodactylusFuscus       0.98      0.89      0.93        96\n",
      " OsteocephalusOophagus       1.00      0.65      0.79        34\n",
      "     Rhinellagranulosa       0.46      0.96      0.62        27\n",
      "           ScinaxRuber       0.82      0.89      0.86        37\n",
      "\n",
      "             micro avg       0.95      0.95      0.95      2159\n",
      "             macro avg       0.89      0.89      0.87      2159\n",
      "          weighted avg       0.96      0.95      0.95      2159\n",
      "\n",
      "The hamming distance for class 0.0472440944882\n"
     ]
    }
   ],
   "source": [
    "from imblearn.over_sampling import SMOTE\n",
    "y_pred = {}\n",
    "for i in ['Family','Genus','Species']:\n",
    "    smote = SMOTE(random_state=0,sampling_strategy='minority')\n",
    "    s = smote.fit_sample(x_train, y_train[[i]])\n",
    "    X = pd.DataFrame(s[0])\n",
    "    Y = pd.DataFrame(s[1])\n",
    "    parameters = [{'C': [1, 10, 100, 1000],'max_iter':[2000]}]\n",
    "    #clf_sets = [(LinearSVC(penalty='l1', loss='squared_hinge', dual=False,\n",
    "                      # tol=1e-3),\n",
    "    clf = GridSearchCV(svm.LinearSVC(multi_class='ovr',penalty='l1',dual=False), parameters,cv=10)\n",
    "    clf.fit(X, Y)\n",
    "    print(\"Best parameters set found on development set for class {} :\".format(i))\n",
    "    print()\n",
    "    print(clf.best_params_)\n",
    "    y_pred[i] = clf.predict(x_test).tolist()\n",
    "    #y_pred = clf.predict(x_test)\n",
    "    print(classification_report(y_test[[i]].values.ravel(), y_pred[i]))\n",
    "    print(\"The hamming distance for class {}\".format(hamming_loss(y_test[[i]].values.ravel(), y_pred[i])))\n",
    "    \n"
   ]
  },
  {
   "cell_type": "code",
   "execution_count": 13,
   "metadata": {},
   "outputs": [],
   "source": [
    "y_pred=pd.DataFrame(y_pred)"
   ]
  },
  {
   "cell_type": "code",
   "execution_count": 14,
   "metadata": {},
   "outputs": [
    {
     "name": "stdout",
     "output_type": "stream",
     "text": [
      "the exact match is: 0.906438165818\n"
     ]
    }
   ],
   "source": [
    "df_match=pd.DataFrame()\n",
    "for i in ['Family','Genus','Species']:\n",
    "    df_match[i] = np.where(y_test[i] == y_pred[i],1,0)\n",
    "df_match['sum'] = df_match[['Family','Genus','Species']].sum(axis=1)\n",
    "em =np.where(df_match['sum']==3,1.0,0).sum(axis=0)/len(df_match)\n",
    "print(\"the exact match is: {}\".format(em))"
   ]
  },
  {
   "cell_type": "markdown",
   "metadata": {},
   "source": [
    "The exact match for the gaussian kernel 0.98 <br/>\n",
    "The exact match for L1 penalized is 0.91 <br/>\n",
    "The exact match with smote is 0.90 <br/>\n",
    "\n",
    "The best classifier here is svm using gaussian kernel as it has the highest exact match.  "
   ]
  },
  {
   "cell_type": "markdown",
   "metadata": {},
   "source": [
    "## 2. K-Means Clustering on a Multi-Class and Multi-Label Data Set Monte-Carlo Simulation: Perform the following procedures 50 times, and report the average and standard deviation of the 50 Hamming Distances that you calculate.\n",
    "\n",
    "#### (a) Use k-means clustering on the whole Anuran Calls (MFCCs) Data Set (do not split the data into train and test, as we are not performing supervised learning in this exercise). Choose k automatically based on one of the methods provided in the slides (CH or Gap Statistics or scree plots or Silhouettes) or any other method you know.\n"
   ]
  },
  {
   "cell_type": "code",
   "execution_count": 15,
   "metadata": {},
   "outputs": [
    {
     "data": {
      "text/plain": [
       "(7195, 22)"
      ]
     },
     "execution_count": 15,
     "metadata": {},
     "output_type": "execute_result"
    }
   ],
   "source": [
    "df=pd.read_csv('Frogs_MFCCs.csv')\n",
    "#df=df.drop(['RecordID'],axis=1)\n",
    "x=df.drop(['Family','Genus','Species','RecordID'],axis=1)\n",
    "y=df[['Family','Genus','Species']]\n",
    "x.shape"
   ]
  },
  {
   "cell_type": "markdown",
   "metadata": {},
   "source": [
    "#### (b) In each cluster, determine which family is the majority by reading the true labels.Repeat for genus and species\n",
    "#### (c) Now for each cluster you have a majority label triplet (family, genus, species). Calculate the average Hamming distance (score) between the true labels and the labels assigned by clusters."
   ]
  },
  {
   "cell_type": "code",
   "execution_count": 16,
   "metadata": {},
   "outputs": [
    {
     "name": "stdout",
     "output_type": "stream",
     "text": [
      "(' The best cluster value is: ', 4)\n",
      "the labels with max count in each cluster is :defaultdict(<type 'list'>, {0: ['Leptodactylidae', 'Adenomera', 'AdenomeraHylaedactylus'], 1: ['Leptodactylidae', 'Adenomera', 'AdenomeraAndre'], 2: ['Hylidae', 'Hypsiboas', 'HypsiboasCordobae'], 3: ['Hylidae', 'Hypsiboas', 'HypsiboasCordobae']})\n",
      "(' The best cluster value is: ', 4)\n",
      "the labels with max count in each cluster is :defaultdict(<type 'list'>, {0: ['Leptodactylidae', 'Adenomera', 'AdenomeraHylaedactylus'], 1: ['Hylidae', 'Hypsiboas', 'HypsiboasCinerascens'], 2: ['Leptodactylidae', 'Adenomera', 'AdenomeraAndre'], 3: ['Hylidae', 'Hypsiboas', 'HypsiboasCordobae']})\n",
      "(' The best cluster value is: ', 4)\n",
      "the labels with max count in each cluster is :defaultdict(<type 'list'>, {0: ['Leptodactylidae', 'Adenomera', 'AdenomeraHylaedactylus'], 1: ['Dendrobatidae', 'Ameerega', 'Ameeregatrivittata'], 2: ['Hylidae', 'Hypsiboas', 'HypsiboasCinerascens'], 3: ['Hylidae', 'Hypsiboas', 'HypsiboasCordobae']})\n",
      "(' The best cluster value is: ', 4)\n",
      "the labels with max count in each cluster is :defaultdict(<type 'list'>, {0: ['Hylidae', 'Hypsiboas', 'HypsiboasCinerascens'], 1: ['Leptodactylidae', 'Adenomera', 'AdenomeraHylaedactylus'], 2: ['Hylidae', 'Hypsiboas', 'HypsiboasCordobae'], 3: ['Dendrobatidae', 'Ameerega', 'Ameeregatrivittata']})\n",
      "(' The best cluster value is: ', 4)\n",
      "the labels with max count in each cluster is :defaultdict(<type 'list'>, {0: ['Leptodactylidae', 'Adenomera', 'AdenomeraHylaedactylus'], 1: ['Dendrobatidae', 'Ameerega', 'Ameeregatrivittata'], 2: ['Hylidae', 'Hypsiboas', 'HypsiboasCordobae'], 3: ['Hylidae', 'Hypsiboas', 'HypsiboasCinerascens']})\n",
      "(' The best cluster value is: ', 4)\n",
      "the labels with max count in each cluster is :defaultdict(<type 'list'>, {0: ['Leptodactylidae', 'Adenomera', 'AdenomeraHylaedactylus'], 1: ['Dendrobatidae', 'Ameerega', 'Ameeregatrivittata'], 2: ['Hylidae', 'Hypsiboas', 'HypsiboasCordobae'], 3: ['Hylidae', 'Hypsiboas', 'HypsiboasCinerascens']})\n",
      "(' The best cluster value is: ', 4)\n",
      "the labels with max count in each cluster is :defaultdict(<type 'list'>, {0: ['Hylidae', 'Hypsiboas', 'HypsiboasCinerascens'], 1: ['Leptodactylidae', 'Adenomera', 'AdenomeraHylaedactylus'], 2: ['Dendrobatidae', 'Ameerega', 'Ameeregatrivittata'], 3: ['Hylidae', 'Hypsiboas', 'HypsiboasCordobae']})\n",
      "(' The best cluster value is: ', 4)\n",
      "the labels with max count in each cluster is :defaultdict(<type 'list'>, {0: ['Hylidae', 'Hypsiboas', 'HypsiboasCordobae'], 1: ['Leptodactylidae', 'Adenomera', 'AdenomeraHylaedactylus'], 2: ['Dendrobatidae', 'Ameerega', 'Ameeregatrivittata'], 3: ['Hylidae', 'Hypsiboas', 'HypsiboasCinerascens']})\n",
      "(' The best cluster value is: ', 5)\n",
      "the labels with max count in each cluster is :defaultdict(<type 'list'>, {0: ['Hylidae', 'Hypsiboas', 'HypsiboasCinerascens'], 1: ['Leptodactylidae', 'Adenomera', 'AdenomeraHylaedactylus'], 2: ['Dendrobatidae', 'Ameerega', 'Ameeregatrivittata'], 3: ['Hylidae', 'Hypsiboas', 'HypsiboasCordobae'], 4: ['Leptodactylidae', 'Adenomera', 'AdenomeraAndre']})\n",
      "(' The best cluster value is: ', 4)\n",
      "the labels with max count in each cluster is :defaultdict(<type 'list'>, {0: ['Hylidae', 'Hypsiboas', 'HypsiboasCordobae'], 1: ['Leptodactylidae', 'Adenomera', 'AdenomeraHylaedactylus'], 2: ['Dendrobatidae', 'Ameerega', 'Ameeregatrivittata'], 3: ['Hylidae', 'Hypsiboas', 'HypsiboasCinerascens']})\n",
      "(' The best cluster value is: ', 4)\n",
      "the labels with max count in each cluster is :defaultdict(<type 'list'>, {0: ['Leptodactylidae', 'Adenomera', 'AdenomeraAndre'], 1: ['Hylidae', 'Hypsiboas', 'HypsiboasCordobae'], 2: ['Leptodactylidae', 'Adenomera', 'AdenomeraHylaedactylus'], 3: ['Hylidae', 'Hypsiboas', 'HypsiboasCordobae']})\n",
      "(' The best cluster value is: ', 4)\n",
      "the labels with max count in each cluster is :defaultdict(<type 'list'>, {0: ['Hylidae', 'Hypsiboas', 'HypsiboasCordobae'], 1: ['Leptodactylidae', 'Adenomera', 'AdenomeraHylaedactylus'], 2: ['Hylidae', 'Hypsiboas', 'HypsiboasCinerascens'], 3: ['Dendrobatidae', 'Ameerega', 'Ameeregatrivittata']})\n",
      "(' The best cluster value is: ', 4)\n",
      "the labels with max count in each cluster is :defaultdict(<type 'list'>, {0: ['Dendrobatidae', 'Ameerega', 'Ameeregatrivittata'], 1: ['Leptodactylidae', 'Adenomera', 'AdenomeraHylaedactylus'], 2: ['Hylidae', 'Hypsiboas', 'HypsiboasCinerascens'], 3: ['Hylidae', 'Hypsiboas', 'HypsiboasCordobae']})\n",
      "(' The best cluster value is: ', 4)\n",
      "the labels with max count in each cluster is :defaultdict(<type 'list'>, {0: ['Dendrobatidae', 'Ameerega', 'Ameeregatrivittata'], 1: ['Hylidae', 'Hypsiboas', 'HypsiboasCordobae'], 2: ['Leptodactylidae', 'Adenomera', 'AdenomeraHylaedactylus'], 3: ['Hylidae', 'Hypsiboas', 'HypsiboasCinerascens']})\n",
      "(' The best cluster value is: ', 4)\n",
      "the labels with max count in each cluster is :defaultdict(<type 'list'>, {0: ['Leptodactylidae', 'Adenomera', 'AdenomeraHylaedactylus'], 1: ['Dendrobatidae', 'Ameerega', 'Ameeregatrivittata'], 2: ['Hylidae', 'Hypsiboas', 'HypsiboasCordobae'], 3: ['Hylidae', 'Hypsiboas', 'HypsiboasCinerascens']})\n",
      "(' The best cluster value is: ', 5)\n",
      "the labels with max count in each cluster is :defaultdict(<type 'list'>, {0: ['Leptodactylidae', 'Adenomera', 'AdenomeraHylaedactylus'], 1: ['Leptodactylidae', 'Adenomera', 'AdenomeraAndre'], 2: ['Hylidae', 'Hypsiboas', 'HypsiboasCordobae'], 3: ['Hylidae', 'Hypsiboas', 'HypsiboasCinerascens'], 4: ['Dendrobatidae', 'Ameerega', 'Ameeregatrivittata']})\n",
      "(' The best cluster value is: ', 4)\n",
      "the labels with max count in each cluster is :defaultdict(<type 'list'>, {0: ['Leptodactylidae', 'Adenomera', 'AdenomeraAndre'], 1: ['Leptodactylidae', 'Adenomera', 'AdenomeraHylaedactylus'], 2: ['Hylidae', 'Hypsiboas', 'HypsiboasCordobae'], 3: ['Hylidae', 'Hypsiboas', 'HypsiboasCordobae']})\n",
      "(' The best cluster value is: ', 4)\n",
      "the labels with max count in each cluster is :defaultdict(<type 'list'>, {0: ['Leptodactylidae', 'Adenomera', 'AdenomeraHylaedactylus'], 1: ['Hylidae', 'Hypsiboas', 'HypsiboasCordobae'], 2: ['Dendrobatidae', 'Ameerega', 'Ameeregatrivittata'], 3: ['Hylidae', 'Hypsiboas', 'HypsiboasCinerascens']})\n",
      "(' The best cluster value is: ', 4)\n",
      "the labels with max count in each cluster is :defaultdict(<type 'list'>, {0: ['Dendrobatidae', 'Ameerega', 'Ameeregatrivittata'], 1: ['Leptodactylidae', 'Adenomera', 'AdenomeraHylaedactylus'], 2: ['Hylidae', 'Hypsiboas', 'HypsiboasCinerascens'], 3: ['Hylidae', 'Hypsiboas', 'HypsiboasCordobae']})\n",
      "(' The best cluster value is: ', 4)\n",
      "the labels with max count in each cluster is :defaultdict(<type 'list'>, {0: ['Leptodactylidae', 'Adenomera', 'AdenomeraAndre'], 1: ['Leptodactylidae', 'Adenomera', 'AdenomeraHylaedactylus'], 2: ['Hylidae', 'Hypsiboas', 'HypsiboasCinerascens'], 3: ['Hylidae', 'Hypsiboas', 'HypsiboasCordobae']})\n",
      "(' The best cluster value is: ', 4)\n",
      "the labels with max count in each cluster is :defaultdict(<type 'list'>, {0: ['Hylidae', 'Hypsiboas', 'HypsiboasCinerascens'], 1: ['Hylidae', 'Hypsiboas', 'HypsiboasCordobae'], 2: ['Leptodactylidae', 'Adenomera', 'AdenomeraHylaedactylus'], 3: ['Dendrobatidae', 'Ameerega', 'Ameeregatrivittata']})\n",
      "(' The best cluster value is: ', 4)\n",
      "the labels with max count in each cluster is :defaultdict(<type 'list'>, {0: ['Hylidae', 'Hypsiboas', 'HypsiboasCinerascens'], 1: ['Hylidae', 'Hypsiboas', 'HypsiboasCordobae'], 2: ['Leptodactylidae', 'Adenomera', 'AdenomeraHylaedactylus'], 3: ['Dendrobatidae', 'Ameerega', 'Ameeregatrivittata']})\n",
      "(' The best cluster value is: ', 4)\n",
      "the labels with max count in each cluster is :defaultdict(<type 'list'>, {0: ['Hylidae', 'Hypsiboas', 'HypsiboasCinerascens'], 1: ['Leptodactylidae', 'Adenomera', 'AdenomeraHylaedactylus'], 2: ['Leptodactylidae', 'Adenomera', 'AdenomeraAndre'], 3: ['Hylidae', 'Hypsiboas', 'HypsiboasCordobae']})\n",
      "(' The best cluster value is: ', 4)\n",
      "the labels with max count in each cluster is :defaultdict(<type 'list'>, {0: ['Leptodactylidae', 'Adenomera', 'AdenomeraAndre'], 1: ['Leptodactylidae', 'Adenomera', 'AdenomeraHylaedactylus'], 2: ['Hylidae', 'Hypsiboas', 'HypsiboasCordobae'], 3: ['Hylidae', 'Hypsiboas', 'HypsiboasCinerascens']})\n",
      "(' The best cluster value is: ', 4)\n",
      "the labels with max count in each cluster is :defaultdict(<type 'list'>, {0: ['Hylidae', 'Hypsiboas', 'HypsiboasCinerascens'], 1: ['Leptodactylidae', 'Adenomera', 'AdenomeraHylaedactylus'], 2: ['Dendrobatidae', 'Ameerega', 'Ameeregatrivittata'], 3: ['Hylidae', 'Hypsiboas', 'HypsiboasCordobae']})\n",
      "(' The best cluster value is: ', 4)\n",
      "the labels with max count in each cluster is :defaultdict(<type 'list'>, {0: ['Dendrobatidae', 'Ameerega', 'Ameeregatrivittata'], 1: ['Leptodactylidae', 'Adenomera', 'AdenomeraHylaedactylus'], 2: ['Hylidae', 'Hypsiboas', 'HypsiboasCinerascens'], 3: ['Hylidae', 'Hypsiboas', 'HypsiboasCordobae']})\n",
      "(' The best cluster value is: ', 4)\n",
      "the labels with max count in each cluster is :defaultdict(<type 'list'>, {0: ['Leptodactylidae', 'Adenomera', 'AdenomeraHylaedactylus'], 1: ['Hylidae', 'Hypsiboas', 'HypsiboasCinerascens'], 2: ['Dendrobatidae', 'Ameerega', 'Ameeregatrivittata'], 3: ['Hylidae', 'Hypsiboas', 'HypsiboasCordobae']})\n",
      "(' The best cluster value is: ', 4)\n",
      "the labels with max count in each cluster is :defaultdict(<type 'list'>, {0: ['Leptodactylidae', 'Adenomera', 'AdenomeraHylaedactylus'], 1: ['Hylidae', 'Hypsiboas', 'HypsiboasCinerascens'], 2: ['Dendrobatidae', 'Ameerega', 'Ameeregatrivittata'], 3: ['Hylidae', 'Hypsiboas', 'HypsiboasCordobae']})\n",
      "(' The best cluster value is: ', 4)\n",
      "the labels with max count in each cluster is :defaultdict(<type 'list'>, {0: ['Hylidae', 'Hypsiboas', 'HypsiboasCinerascens'], 1: ['Hylidae', 'Hypsiboas', 'HypsiboasCordobae'], 2: ['Dendrobatidae', 'Ameerega', 'Ameeregatrivittata'], 3: ['Leptodactylidae', 'Adenomera', 'AdenomeraHylaedactylus']})\n",
      "(' The best cluster value is: ', 4)\n",
      "the labels with max count in each cluster is :defaultdict(<type 'list'>, {0: ['Leptodactylidae', 'Adenomera', 'AdenomeraHylaedactylus'], 1: ['Hylidae', 'Hypsiboas', 'HypsiboasCinerascens'], 2: ['Hylidae', 'Hypsiboas', 'HypsiboasCordobae'], 3: ['Dendrobatidae', 'Ameerega', 'Ameeregatrivittata']})\n",
      "(' The best cluster value is: ', 4)\n",
      "the labels with max count in each cluster is :defaultdict(<type 'list'>, {0: ['Dendrobatidae', 'Ameerega', 'Ameeregatrivittata'], 1: ['Leptodactylidae', 'Adenomera', 'AdenomeraHylaedactylus'], 2: ['Hylidae', 'Hypsiboas', 'HypsiboasCordobae'], 3: ['Hylidae', 'Hypsiboas', 'HypsiboasCinerascens']})\n",
      "(' The best cluster value is: ', 4)\n",
      "the labels with max count in each cluster is :defaultdict(<type 'list'>, {0: ['Leptodactylidae', 'Adenomera', 'AdenomeraHylaedactylus'], 1: ['Hylidae', 'Hypsiboas', 'HypsiboasCordobae'], 2: ['Dendrobatidae', 'Ameerega', 'Ameeregatrivittata'], 3: ['Hylidae', 'Hypsiboas', 'HypsiboasCinerascens']})\n",
      "(' The best cluster value is: ', 4)\n",
      "the labels with max count in each cluster is :defaultdict(<type 'list'>, {0: ['Leptodactylidae', 'Adenomera', 'AdenomeraHylaedactylus'], 1: ['Hylidae', 'Hypsiboas', 'HypsiboasCinerascens'], 2: ['Hylidae', 'Hypsiboas', 'HypsiboasCordobae'], 3: ['Dendrobatidae', 'Ameerega', 'Ameeregatrivittata']})\n",
      "(' The best cluster value is: ', 4)\n",
      "the labels with max count in each cluster is :defaultdict(<type 'list'>, {0: ['Leptodactylidae', 'Adenomera', 'AdenomeraHylaedactylus'], 1: ['Hylidae', 'Hypsiboas', 'HypsiboasCordobae'], 2: ['Hylidae', 'Hypsiboas', 'HypsiboasCordobae'], 3: ['Leptodactylidae', 'Adenomera', 'AdenomeraAndre']})\n",
      "(' The best cluster value is: ', 4)\n",
      "the labels with max count in each cluster is :defaultdict(<type 'list'>, {0: ['Dendrobatidae', 'Ameerega', 'Ameeregatrivittata'], 1: ['Hylidae', 'Hypsiboas', 'HypsiboasCordobae'], 2: ['Hylidae', 'Hypsiboas', 'HypsiboasCinerascens'], 3: ['Leptodactylidae', 'Adenomera', 'AdenomeraHylaedactylus']})\n",
      "(' The best cluster value is: ', 4)\n",
      "the labels with max count in each cluster is :defaultdict(<type 'list'>, {0: ['Hylidae', 'Hypsiboas', 'HypsiboasCordobae'], 1: ['Leptodactylidae', 'Adenomera', 'AdenomeraHylaedactylus'], 2: ['Leptodactylidae', 'Adenomera', 'AdenomeraAndre'], 3: ['Hylidae', 'Hypsiboas', 'HypsiboasCinerascens']})\n",
      "(' The best cluster value is: ', 4)\n",
      "the labels with max count in each cluster is :defaultdict(<type 'list'>, {0: ['Hylidae', 'Hypsiboas', 'HypsiboasCordobae'], 1: ['Leptodactylidae', 'Adenomera', 'AdenomeraHylaedactylus'], 2: ['Leptodactylidae', 'Adenomera', 'AdenomeraAndre'], 3: ['Hylidae', 'Hypsiboas', 'HypsiboasCordobae']})\n",
      "(' The best cluster value is: ', 4)\n",
      "the labels with max count in each cluster is :defaultdict(<type 'list'>, {0: ['Leptodactylidae', 'Adenomera', 'AdenomeraAndre'], 1: ['Leptodactylidae', 'Adenomera', 'AdenomeraHylaedactylus'], 2: ['Hylidae', 'Hypsiboas', 'HypsiboasCordobae'], 3: ['Hylidae', 'Hypsiboas', 'HypsiboasCordobae']})\n",
      "(' The best cluster value is: ', 4)\n",
      "the labels with max count in each cluster is :defaultdict(<type 'list'>, {0: ['Leptodactylidae', 'Adenomera', 'AdenomeraHylaedactylus'], 1: ['Hylidae', 'Hypsiboas', 'HypsiboasCordobae'], 2: ['Hylidae', 'Hypsiboas', 'HypsiboasCinerascens'], 3: ['Dendrobatidae', 'Ameerega', 'Ameeregatrivittata']})\n",
      "(' The best cluster value is: ', 4)\n",
      "the labels with max count in each cluster is :defaultdict(<type 'list'>, {0: ['Leptodactylidae', 'Adenomera', 'AdenomeraHylaedactylus'], 1: ['Dendrobatidae', 'Ameerega', 'Ameeregatrivittata'], 2: ['Hylidae', 'Hypsiboas', 'HypsiboasCinerascens'], 3: ['Hylidae', 'Hypsiboas', 'HypsiboasCordobae']})\n",
      "(' The best cluster value is: ', 4)\n",
      "the labels with max count in each cluster is :defaultdict(<type 'list'>, {0: ['Leptodactylidae', 'Adenomera', 'AdenomeraHylaedactylus'], 1: ['Hylidae', 'Hypsiboas', 'HypsiboasCordobae'], 2: ['Dendrobatidae', 'Ameerega', 'Ameeregatrivittata'], 3: ['Hylidae', 'Hypsiboas', 'HypsiboasCinerascens']})\n",
      "(' The best cluster value is: ', 4)\n",
      "the labels with max count in each cluster is :defaultdict(<type 'list'>, {0: ['Dendrobatidae', 'Ameerega', 'Ameeregatrivittata'], 1: ['Leptodactylidae', 'Adenomera', 'AdenomeraHylaedactylus'], 2: ['Hylidae', 'Hypsiboas', 'HypsiboasCordobae'], 3: ['Hylidae', 'Hypsiboas', 'HypsiboasCinerascens']})\n",
      "(' The best cluster value is: ', 4)\n",
      "the labels with max count in each cluster is :defaultdict(<type 'list'>, {0: ['Leptodactylidae', 'Adenomera', 'AdenomeraHylaedactylus'], 1: ['Leptodactylidae', 'Adenomera', 'AdenomeraAndre'], 2: ['Hylidae', 'Hypsiboas', 'HypsiboasCordobae'], 3: ['Hylidae', 'Hypsiboas', 'HypsiboasCordobae']})\n",
      "(' The best cluster value is: ', 4)\n",
      "the labels with max count in each cluster is :defaultdict(<type 'list'>, {0: ['Hylidae', 'Hypsiboas', 'HypsiboasCordobae'], 1: ['Leptodactylidae', 'Adenomera', 'AdenomeraHylaedactylus'], 2: ['Hylidae', 'Hypsiboas', 'HypsiboasCinerascens'], 3: ['Dendrobatidae', 'Ameerega', 'Ameeregatrivittata']})\n",
      "(' The best cluster value is: ', 4)\n",
      "the labels with max count in each cluster is :defaultdict(<type 'list'>, {0: ['Hylidae', 'Hypsiboas', 'HypsiboasCordobae'], 1: ['Leptodactylidae', 'Adenomera', 'AdenomeraHylaedactylus'], 2: ['Leptodactylidae', 'Adenomera', 'AdenomeraAndre'], 3: ['Hylidae', 'Hypsiboas', 'HypsiboasCordobae']})\n",
      "(' The best cluster value is: ', 4)\n",
      "the labels with max count in each cluster is :defaultdict(<type 'list'>, {0: ['Dendrobatidae', 'Ameerega', 'Ameeregatrivittata'], 1: ['Leptodactylidae', 'Adenomera', 'AdenomeraHylaedactylus'], 2: ['Hylidae', 'Hypsiboas', 'HypsiboasCinerascens'], 3: ['Hylidae', 'Hypsiboas', 'HypsiboasCordobae']})\n",
      "(' The best cluster value is: ', 4)\n",
      "the labels with max count in each cluster is :defaultdict(<type 'list'>, {0: ['Leptodactylidae', 'Adenomera', 'AdenomeraHylaedactylus'], 1: ['Hylidae', 'Hypsiboas', 'HypsiboasCordobae'], 2: ['Dendrobatidae', 'Ameerega', 'Ameeregatrivittata'], 3: ['Hylidae', 'Hypsiboas', 'HypsiboasCinerascens']})\n",
      "(' The best cluster value is: ', 4)\n",
      "the labels with max count in each cluster is :defaultdict(<type 'list'>, {0: ['Hylidae', 'Hypsiboas', 'HypsiboasCordobae'], 1: ['Leptodactylidae', 'Adenomera', 'AdenomeraHylaedactylus'], 2: ['Dendrobatidae', 'Ameerega', 'Ameeregatrivittata'], 3: ['Hylidae', 'Hypsiboas', 'HypsiboasCinerascens']})\n",
      "(' The best cluster value is: ', 4)\n",
      "the labels with max count in each cluster is :defaultdict(<type 'list'>, {0: ['Leptodactylidae', 'Adenomera', 'AdenomeraHylaedactylus'], 1: ['Leptodactylidae', 'Adenomera', 'AdenomeraAndre'], 2: ['Hylidae', 'Hypsiboas', 'HypsiboasCordobae'], 3: ['Hylidae', 'Hypsiboas', 'HypsiboasCordobae']})\n",
      "(' The best cluster value is: ', 4)\n",
      "the labels with max count in each cluster is :defaultdict(<type 'list'>, {0: ['Leptodactylidae', 'Adenomera', 'AdenomeraHylaedactylus'], 1: ['Hylidae', 'Hypsiboas', 'HypsiboasCordobae'], 2: ['Hylidae', 'Hypsiboas', 'HypsiboasCinerascens'], 3: ['Dendrobatidae', 'Ameerega', 'Ameeregatrivittata']})\n"
     ]
    }
   ],
   "source": [
    "from collections import defaultdict\n",
    "hamming_avg=[]\n",
    "for mc in range(0,50):\n",
    "\n",
    "    silhouette_avg=defaultdict(list)\n",
    "    \n",
    "    for i in range(2,16):\n",
    "        kmeans=KMeans(n_clusters=i,init='k-means++',n_init=5)\n",
    "        cluster_labels = kmeans.fit_predict(x)\n",
    "        silhouette_avg[i].append(silhouette_score(x, cluster_labels))\n",
    "    cluster= max(silhouette_avg, key=silhouette_avg.get)\n",
    "    print(\" The best cluster value is: \",cluster)\n",
    "\n",
    "    kmeans=KMeans(n_clusters=cluster,init='k-means++',n_init=5)\n",
    "    cluster_labels = kmeans.fit_predict(x)\n",
    "    df['cluster_labels']=cluster_labels\n",
    "    df['Family'].value_counts()\n",
    "    d=defaultdict(list)\n",
    "    for clus in range(0,cluster):\n",
    "        temp = df[df['cluster_labels']==clus]\n",
    "        d[clus].append(temp['Family'].value_counts().index[0])\n",
    "        d[clus].append(temp['Genus'].value_counts().index[0])\n",
    "        d[clus].append(temp['Species'].value_counts().index[0])\n",
    "    print(\"the labels with max count in each cluster is :{}\".format(d))\n",
    "    df['family'] = 'none'\n",
    "    df['genus'] = 'none'\n",
    "    df['species'] = 'none'   \n",
    "    \n",
    "    for clus in range(cluster):\n",
    "        df['family'] = np.where(df['cluster_labels']==clus,d[clus][0],df['family'])\n",
    "        df['genus'] = np.where(df['cluster_labels']==clus,d[clus][1],df['genus'])\n",
    "        df['species'] = np.where(df['cluster_labels']==clus,d[clus][2],df['species'])\n",
    "\n",
    "    df_pred = df.loc[:,['family','genus','species']].rename(columns={'family':'Family','genus':'Genus','species':'Species'})\n",
    "    df_true = df.loc[:,['Family','Genus','Species']]\n",
    "\n",
    "\n",
    "    hamming=[] \n",
    "    for i in ['Family', 'Genus', 'Species']:\n",
    "        hamming.append(1-hamming_loss(df_true[i], df_pred[i]))\n",
    "    hamming_avg.append(sum(hamming)/3)\n",
    "\n",
    "\n",
    "\n",
    "        "
   ]
  },
  {
   "cell_type": "code",
   "execution_count": 17,
   "metadata": {},
   "outputs": [
    {
     "data": {
      "text/plain": [
       "[0.75487607134584211,\n",
       " 0.76636553161918008,\n",
       " 0.77757702107945337,\n",
       " 0.77757702107945337,\n",
       " 0.77757702107945337,\n",
       " 0.77808663423673841,\n",
       " 0.77757702107945337,\n",
       " 0.77757702107945337,\n",
       " 0.80078758397034966,\n",
       " 0.77757702107945337,\n",
       " 0.75487607134584211,\n",
       " 0.77757702107945337,\n",
       " 0.77757702107945337,\n",
       " 0.77757702107945337,\n",
       " 0.77808663423673841,\n",
       " 0.83210562890896467,\n",
       " 0.75473708593930977,\n",
       " 0.77822561964327075,\n",
       " 0.77753069261060925,\n",
       " 0.76631920315033586,\n",
       " 0.77757702107945337,\n",
       " 0.77771600648598571,\n",
       " 0.76627287468149186,\n",
       " 0.76627287468149186,\n",
       " 0.77757702107945337,\n",
       " 0.77757702107945337,\n",
       " 0.77771600648598571,\n",
       " 0.77757702107945337,\n",
       " 0.77757702107945337,\n",
       " 0.77753069261060925,\n",
       " 0.77757702107945337,\n",
       " 0.77757702107945337,\n",
       " 0.77757702107945337,\n",
       " 0.75487607134584211,\n",
       " 0.77757702107945337,\n",
       " 0.76594857539958305,\n",
       " 0.75255964790363683,\n",
       " 0.75473708593930977,\n",
       " 0.77757702107945337,\n",
       " 0.77757702107945337,\n",
       " 0.77757702107945337,\n",
       " 0.77757702107945337,\n",
       " 0.75487607134584211,\n",
       " 0.77757702107945337,\n",
       " 0.75487607134584211,\n",
       " 0.77808663423673841,\n",
       " 0.77771600648598571,\n",
       " 0.77757702107945337,\n",
       " 0.75473708593930977,\n",
       " 0.77757702107945337]"
      ]
     },
     "execution_count": 17,
     "metadata": {},
     "output_type": "execute_result"
    }
   ],
   "source": [
    "hamming_avg"
   ]
  },
  {
   "cell_type": "code",
   "execution_count": 19,
   "metadata": {},
   "outputs": [
    {
     "name": "stdout",
     "output_type": "stream",
     "text": [
      "('the standard deviation is :', 0.01297612494457149)\n",
      "('the average of the hamming_avg', 0.7739068797776234)\n"
     ]
    }
   ],
   "source": [
    "sd= statistics.stdev(hamming_avg)\n",
    "print(\"the standard deviation is :\",sd)\n",
    "aver=statistics.mean(hamming_avg)\n",
    "print(\"the average of the hamming_avg\",aver)"
   ]
  }
 ],
 "metadata": {
  "anaconda-cloud": {},
  "kernelspec": {
   "display_name": "Python 3",
   "language": "python",
   "name": "python3"
  },
  "language_info": {
   "codemirror_mode": {
    "name": "ipython",
    "version": 3
   },
   "file_extension": ".py",
   "mimetype": "text/x-python",
   "name": "python",
   "nbconvert_exporter": "python",
   "pygments_lexer": "ipython3",
   "version": "3.7.0"
  }
 },
 "nbformat": 4,
 "nbformat_minor": 1
}
