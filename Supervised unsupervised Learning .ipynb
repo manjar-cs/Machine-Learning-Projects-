{
 "cells": [
  {
   "cell_type": "markdown",
   "metadata": {},
   "source": [
    "### 1. Supervised, Semi-Supervised, and Unsupervised Learning\n",
    "\n",
    "### (a) Download the Breast Cancer Wisconsin (Diagnostic) Data Set from: https://archive.ics.uci.edu/ml/datasets/Breast+Cancer+Wisconsin+%28Diagnostic%29. Download the data in https://archive.ics.uci.edu/ml/machine-learning-databases/breast-cancer-wisconsin/wdbc.data, which has IDs, classes (Benign=B, Malignant=M), and 30 attributes. This data has two output classes. Use the first 20% of the positive and negative classes in the file as the test set and the rest as the training set.\n"
   ]
  },
  {
   "cell_type": "code",
   "execution_count": 18,
   "metadata": {},
   "outputs": [],
   "source": [
    "import pandas as pd\n",
    "import numpy as np\n",
    "from sklearn.model_selection import train_test_split\n",
    "from sklearn import svm\n",
    "from sklearn.model_selection import GridSearchCV\n",
    "from sklearn import preprocessing\n",
    "from sklearn.metrics import classification_report\n",
    "from sklearn.metrics import precision_score\n",
    "from sklearn.metrics import accuracy_score\n",
    "from sklearn.metrics import recall_score, f1_score ,auc,roc_curve,confusion_matrix\n",
    "import matplotlib.pyplot as plt\n",
    "import statistics \n",
    "from sklearn.cluster import KMeans\n",
    "from sklearn.neighbors import NearestNeighbors\n",
    "import random\n",
    "\n"
   ]
  },
  {
   "cell_type": "code",
   "execution_count": 4,
   "metadata": {},
   "outputs": [],
   "source": [
    "df=pd.read_csv('wdbc.data', header=None)"
   ]
  },
  {
   "cell_type": "code",
   "execution_count": 5,
   "metadata": {},
   "outputs": [],
   "source": [
    "df_norm=pd.DataFrame(preprocessing.normalize(df.iloc[:,2:]))\n",
    "df_norm[1] = df[1].map( {'M':0, 'B':1} )\n",
    "df_new=df_norm.drop(0,axis=1)\n",
    "#df_new"
   ]
  },
  {
   "cell_type": "markdown",
   "metadata": {},
   "source": [
    "### (b) Monte-Carlo Simulation: Repeat the following procedures for supervised, unsupervised,and semi-supervised learning M = 30 times, and use randomly selected train and test data (make sure you use 20% of both the positve and negative classes as the test set). Then compare the average scores (accuracy, precision,recall, F-score, and AUC) that you obtain from each algorithm."
   ]
  },
  {
   "cell_type": "markdown",
   "metadata": {},
   "source": [
    "### i. Supervised Learning: Train an L1-penalized SVM to classify the data.Use 5 fold cross validation to choose the penalty parameter. Use normalized data. "
   ]
  },
  {
   "cell_type": "code",
   "execution_count": 6,
   "metadata": {},
   "outputs": [
    {
     "name": "stdout",
     "output_type": "stream",
     "text": [
      "{'C': 1000, 'max_iter': 2000}\n",
      "{'C': 1000, 'max_iter': 2000}\n",
      "{'C': 1000, 'max_iter': 2000}\n",
      "{'C': 1000, 'max_iter': 2000}\n",
      "{'C': 1000, 'max_iter': 2000}\n",
      "{'C': 1000, 'max_iter': 2000}\n",
      "{'C': 1000, 'max_iter': 2000}\n",
      "{'C': 1000, 'max_iter': 2000}\n",
      "{'C': 100, 'max_iter': 2000}\n",
      "{'C': 1000, 'max_iter': 2000}\n",
      "{'C': 1000, 'max_iter': 2000}\n",
      "{'C': 1000, 'max_iter': 2000}\n",
      "{'C': 1000, 'max_iter': 2000}\n",
      "{'C': 1000, 'max_iter': 2000}\n",
      "{'C': 1000, 'max_iter': 2000}\n",
      "{'C': 1000, 'max_iter': 2000}\n",
      "{'C': 1000, 'max_iter': 2000}\n",
      "{'C': 1000, 'max_iter': 2000}\n",
      "{'C': 1000, 'max_iter': 2000}\n",
      "{'C': 1000, 'max_iter': 2000}\n",
      "{'C': 100, 'max_iter': 2000}\n",
      "{'C': 1000, 'max_iter': 2000}\n",
      "{'C': 100, 'max_iter': 2000}\n",
      "{'C': 1000, 'max_iter': 2000}\n",
      "{'C': 1000, 'max_iter': 2000}\n",
      "{'C': 1000, 'max_iter': 2000}\n",
      "{'C': 1000, 'max_iter': 2000}\n",
      "{'C': 1000, 'max_iter': 2000}\n",
      "{'C': 100, 'max_iter': 2000}\n",
      "{'C': 1000, 'max_iter': 2000}\n"
     ]
    }
   ],
   "source": [
    "ps=[]\n",
    "rs=[]\n",
    "acs=[]\n",
    "fs=[]\n",
    "AUC=[]\n",
    "\n",
    "ps_tr=[]\n",
    "rs_tr=[]\n",
    "acs_tr=[]\n",
    "fs_tr=[]\n",
    "AUC_tr=[]\n",
    "for M in range(0,30):\n",
    "    train_df=pd.DataFrame\n",
    "    test_df=pd.DataFrame\n",
    "    mal_df=df_new[df_new[1]==0]\n",
    "    ben_df=df_new[df_new[1]==1]\n",
    "    test_df=mal_df.sample(frac=0.2).append(ben_df.sample(frac=0.2))\n",
    "    index_todrop = test_df.index\n",
    "    train_df=df_new.drop(index = index_todrop)\n",
    "    train_y=train_df.loc[:,1]\n",
    "    train_x=train_df.iloc[:,2:]\n",
    "    test_y=test_df.loc[:,1]\n",
    "    test_x=test_df.iloc[:,2:]\n",
    "    parameters = [{'C': [0.1,0.001,1, 10, 100, 1000],'max_iter':[2000]}]\n",
    "    model = GridSearchCV(svm.LinearSVC(penalty='l1',dual=False),parameters,cv=5 )\n",
    "    model.fit(train_x, train_y)\n",
    "    \n",
    "    #calculating train parameters\n",
    "    pred_y_tr = model.predict(train_x)\n",
    "    ps_tr.append(precision_score(train_y, pred_y_tr))\n",
    "    rs_tr.append(recall_score(train_y, pred_y_tr))\n",
    "    acs_tr.append(accuracy_score(train_y, pred_y_tr)) \n",
    "    fs_tr.append(f1_score(train_y, pred_y_tr))\n",
    "    fpr_tr, tpr_tr, _ = roc_curve(train_y,pred_y_tr)\n",
    "    AUC_tr.append(auc(fpr_tr, tpr_tr))\n",
    "\n",
    "    #calculating tst params\n",
    "    pred_y = model.predict(test_x)\n",
    "    print(model.best_params_)\n",
    "    ps.append(precision_score(test_y, pred_y))\n",
    "    rs.append(recall_score(test_y, pred_y))\n",
    "    acs.append(accuracy_score(test_y, pred_y)) \n",
    "    fs.append(f1_score(test_y, pred_y))\n",
    "    fpr, tpr, _ = roc_curve(test_y,pred_y)\n",
    "    AUC.append(auc(fpr, tpr))"
   ]
  },
  {
   "cell_type": "markdown",
   "metadata": {},
   "source": [
    "### Report the average accuracy, precision, recall, F-score, and AUC, for both training and test sets over your M runs."
   ]
  },
  {
   "cell_type": "code",
   "execution_count": 7,
   "metadata": {},
   "outputs": [
    {
     "name": "stdout",
     "output_type": "stream",
     "text": [
      "('avg train precision score: ', 0.9694654364507518)\n",
      "('avg train f1 score: ', 0.97294232782847)\n",
      "('avg train recall score: ', 0.9764568764568764)\n",
      "('avg train AUC score: ', 0.9623460852872617)\n",
      "('avg train acuracy score: ', 0.9659356725146199)\n",
      "('avg test precision score: ', 0.9600258072251734)\n",
      "('avg test f1 score: ', 0.9623638859069996)\n",
      "('avg test recall score: ', 0.9652582159624413)\n",
      "('avg test AUC score: ', 0.9481052984574112)\n",
      "('avg test acuracy score: ', 0.9525073746312684)\n"
     ]
    }
   ],
   "source": [
    "print(\"avg train precision score: \",statistics.mean(ps_tr))\n",
    "print(\"avg train f1 score: \",statistics.mean(fs_tr))\n",
    "print(\"avg train recall score: \",statistics.mean(rs_tr))\n",
    "print(\"avg train AUC score: \",statistics.mean(AUC_tr))\n",
    "print(\"avg train acuracy score: \",statistics.mean(acs_tr))\n",
    "print(\"avg test precision score: \",statistics.mean(ps))\n",
    "print(\"avg test f1 score: \",statistics.mean(fs))\n",
    "print(\"avg test recall score: \",statistics.mean(rs))\n",
    "print(\"avg test AUC score: \",statistics.mean(AUC))\n",
    "print(\"avg test acuracy score: \",statistics.mean(acs))\n",
    "\n"
   ]
  },
  {
   "cell_type": "markdown",
   "metadata": {},
   "source": [
    "### Plot the ROC and report the confusion matrix for training and testing in one of the runs."
   ]
  },
  {
   "cell_type": "code",
   "execution_count": 8,
   "metadata": {},
   "outputs": [
    {
     "name": "stdout",
     "output_type": "stream",
     "text": [
      "Confusion Matrix for the test set: \n",
      "[[42  0]\n",
      " [ 2 69]]\n",
      "Confusion Matrix for the train set: \n",
      "[[161   9]\n",
      " [  7 279]]\n"
     ]
    }
   ],
   "source": [
    "conf = confusion_matrix(test_y,pred_y)\n",
    "print(\"Confusion Matrix for the test set: \")\n",
    "print(conf)\n",
    "\n",
    "conf_tr = confusion_matrix(train_y,pred_y_tr)\n",
    "print(\"Confusion Matrix for the train set: \")\n",
    "print(conf_tr)"
   ]
  },
  {
   "cell_type": "code",
   "execution_count": 9,
   "metadata": {},
   "outputs": [
    {
     "data": {
      "image/png": "[encoded data removed]",
      "text/plain": [
       "<Figure size 432x288 with 1 Axes>"
      ]
     },
     "metadata": {
      "needs_background": "light"
     },
     "output_type": "display_data"
    }
   ],
   "source": [
    "plt.figure()\n",
    "lw=2\n",
    "plt.plot(fpr, tpr, color='darkorange',\n",
    "         lw=lw, label='ROC curve (area = %0.2f)' %auc(fpr, tpr))\n",
    "plt.plot([0, 1], [0, 1], color='navy', lw=lw, linestyle='--')\n",
    "plt.xlim([0.0, 1.0])\n",
    "plt.ylim([0.0, 1.05])\n",
    "plt.xlabel('False Positive Rate')\n",
    "plt.ylabel('True Positive Rate')\n",
    "plt.title('Test Receiver operating characteristic')\n",
    "plt.legend(loc=\"lower right\")\n",
    "plt.show()\n",
    "\n",
    "\n",
    " "
   ]
  },
  {
   "cell_type": "code",
   "execution_count": 10,
   "metadata": {},
   "outputs": [
    {
     "data": {
      "image/png": "[encoded data removed]",
      "text/plain": [
       "<Figure size 432x288 with 1 Axes>"
      ]
     },
     "metadata": {
      "needs_background": "light"
     },
     "output_type": "display_data"
    }
   ],
   "source": [
    "plt.figure()\n",
    "lw=2\n",
    "plt.plot(fpr_tr, tpr_tr, color='darkorange',\n",
    "         lw=lw, label='ROC curve (area = %0.2f)' %auc(fpr_tr, tpr_tr))\n",
    "plt.plot([0, 1], [0, 1], color='navy', lw=lw, linestyle='--')\n",
    "plt.xlim([0.0, 1.0])\n",
    "plt.ylim([0.0, 1.05])\n",
    "plt.xlabel('False Positive Rate')\n",
    "plt.ylabel('True Positive Rate')\n",
    "plt.title(' Training Receiver operating characteristic')\n",
    "plt.legend(loc=\"lower right\")\n",
    "plt.show()"
   ]
  },
  {
   "cell_type": "markdown",
   "metadata": {},
   "source": [
    "### ii. Semi-Supervised Learning/ Self-training: select 50% of the positive class along with 50% of the negative class in the training set as labeled data and the rest as unlabelled data. You can select them randomly.\n",
    "\n",
    "\n",
    "#### A. Train an L1-penalized SVM to classify the labeled data Use normalized data. Choose the penalty parameter using 5 fold cross validation.\n",
    "\n",
    "#### B. Find the unlabeled data point that is the farthest to the decision boundary of the SVM. Let the SVM label it (ignore its true label), and add it to the labeled data, and retrain the SVM. Continue this process until all unlabeled data are used. Test the final SVM on the test data and the average accuracy, precision, recall, F-score, and AUC, for both training and test sets over your M runs. Plot the ROC and report the confusion matrix for training and testing in one of the runs."
   ]
  },
  {
   "cell_type": "code",
   "execution_count": 11,
   "metadata": {},
   "outputs": [],
   "source": [
    "ps=[]\n",
    "rs=[]\n",
    "acs=[]\n",
    "fs=[]\n",
    "AUC=[]\n",
    "\n",
    "ps_tr=[]\n",
    "rs_tr=[]\n",
    "acs_tr=[]\n",
    "fs_tr=[]\n",
    "AUC_tr=[]\n",
    "for M in range(0,30): \n",
    "    mal_df=df_new[df_new[1]==0]\n",
    "    ben_df=df_new[df_new[1]==1]\n",
    "    df_lab=mal_df.sample(frac=0.5).append(ben_df.sample(frac=0.5))\n",
    "    index_todrop = df_lab.index\n",
    "    df_unlab=df_new.drop(index = index_todrop)\n",
    "    df_lab=df_lab.reset_index(drop=True)\n",
    "    df_unlab=df_unlab.reset_index(drop=True)\n",
    "    x_lab=df_lab.iloc[:,2:] #train\n",
    "    y_lab=df_lab.loc[:,1]\n",
    "    x_unlab=df_unlab.iloc[:,2:] #test\n",
    "    y_unlab=df_unlab.loc[:,1]\n",
    "    for l in range(len(x_unlab)):\n",
    "        parameters = [{'C': [0.1,0.001,1, 10, 100, 1000],'max_iter':[2000]}]\n",
    "        model = GridSearchCV(svm.LinearSVC(penalty='l1',dual=False),parameters,cv=5 )\n",
    "        model.fit(x_lab, y_lab)\n",
    "        dist_index=np.argmax(model.decision_function(x_unlab))\n",
    "        q=pd.DataFrame(x_unlab.iloc[dist_index,:]).T\n",
    "        y_lab=pd.concat([y_lab,pd.DataFrame(model.predict(q))],axis=0)\n",
    "        #y_lab.reset_index(drop=True)\n",
    "        x_lab=pd.concat([x_lab,q],axis=0)\n",
    "        x_unlab=x_unlab.drop(index=dist_index,axis=0)\n",
    "        x_unlab=x_unlab.reset_index(drop=True)\n",
    "        #print(len(x_lab),len(x_unlab),len(y_lab),dist_index)\n",
    "        \n",
    "    x_unlab=df_unlab.iloc[:,2:]\n",
    " \n",
    "    pred_y_f=model.predict(x_unlab) #test\n",
    "    ps.append(precision_score(y_unlab, pred_y_f))\n",
    "    rs.append(recall_score(y_unlab,pred_y_f))\n",
    "    acs.append(accuracy_score(y_unlab, pred_y_f)) \n",
    "    fs.append(f1_score(y_unlab, pred_y_f))\n",
    "    fpr, tpr, _ = roc_curve(y_unlab,pred_y_f)\n",
    "    AUC.append(auc(fpr, tpr))\n",
    "        \n",
    "    x_lab=df_lab.iloc[:,2:]\n",
    "    y_lab=df_lab.loc[:,1]\n",
    "    pred_y_f_tr=model.predict(x_lab) #train\n",
    "    ps_tr.append(precision_score(y_lab, pred_y_f_tr))\n",
    "    rs_tr.append(recall_score(y_lab,pred_y_f_tr))\n",
    "    acs_tr.append(accuracy_score(y_lab, pred_y_f_tr)) \n",
    "    fs_tr.append(f1_score(y_lab, pred_y_f_tr))\n",
    "    fpr_tr, tpr_tr, _ = roc_curve(y_lab,pred_y_f_tr)\n",
    "    AUC_tr.append(auc(fpr_tr, tpr_tr))\n",
    "    "
   ]
  },
  {
   "cell_type": "code",
   "execution_count": 12,
   "metadata": {},
   "outputs": [
    {
     "name": "stdout",
     "output_type": "stream",
     "text": [
      "('avg train precision score: ', 0.9504648268646253)\n",
      "('avg train f1 score: ', 0.9671876930020381)\n",
      "('avg train recall score: ', 0.984729981378026)\n",
      "('avg train AUC score: ', 0.9486542988651137)\n",
      "('avg train acuracy score: ', 0.9578947368421052)\n",
      "('avg test precision score: ', 0.9356117662286525)\n",
      "('avg test f1 score: ', 0.9577692304648306)\n",
      "('avg test recall score: ', 0.9816479400749063)\n",
      "('avg test AUC score: ', 0.93311956752173)\n",
      "('avg test acuracy score: ', 0.9454225352112676)\n"
     ]
    }
   ],
   "source": [
    "print(\"avg train precision score: \",statistics.mean(ps_tr))\n",
    "print(\"avg train f1 score: \",statistics.mean(fs_tr))\n",
    "print(\"avg train recall score: \",statistics.mean(rs_tr))\n",
    "print(\"avg train AUC score: \",statistics.mean(AUC_tr))\n",
    "print(\"avg train acuracy score: \",statistics.mean(acs_tr))\n",
    "print(\"avg test precision score: \",statistics.mean(ps))\n",
    "print(\"avg test f1 score: \",statistics.mean(fs))\n",
    "print(\"avg test recall score: \",statistics.mean(rs))\n",
    "print(\"avg test AUC score: \",statistics.mean(AUC))\n",
    "print(\"avg test acuracy score: \",statistics.mean(acs))\n"
   ]
  },
  {
   "cell_type": "code",
   "execution_count": 13,
   "metadata": {},
   "outputs": [
    {
     "name": "stdout",
     "output_type": "stream",
     "text": [
      "Confusion Matrix for the test set: \n",
      "[[ 71  35]\n",
      " [  2 176]]\n",
      "Confusion Matrix for the train set: \n",
      "[[ 90  16]\n",
      " [  0 179]]\n"
     ]
    }
   ],
   "source": [
    "conf = confusion_matrix(y_unlab,pred_y_f)\n",
    "print(\"Confusion Matrix for the test set: \")\n",
    "print(conf)\n",
    "\n",
    "conf_tr = confusion_matrix(y_lab,pred_y_f_tr)\n",
    "print(\"Confusion Matrix for the train set: \")\n",
    "print(conf_tr)"
   ]
  },
  {
   "cell_type": "code",
   "execution_count": 14,
   "metadata": {},
   "outputs": [
    {
     "data": {
      "image/png": "[encoded data removed]",
      "text/plain": [
       "<Figure size 432x288 with 1 Axes>"
      ]
     },
     "metadata": {
      "needs_background": "light"
     },
     "output_type": "display_data"
    }
   ],
   "source": [
    "plt.figure()\n",
    "lw=2\n",
    "plt.plot(fpr, tpr, color='darkorange',\n",
    "         lw=lw, label='ROC curve (area = %0.2f)' %auc(fpr, tpr))\n",
    "plt.plot([0, 1], [0, 1], color='navy', lw=lw, linestyle='--')\n",
    "plt.xlim([0.0, 1.0])\n",
    "plt.ylim([0.0, 1.05])\n",
    "plt.xlabel('False Positive Rate')\n",
    "plt.ylabel('True Positive Rate')\n",
    "plt.title('Test Receiver operating characteristic')\n",
    "plt.legend(loc=\"lower right\")\n",
    "plt.show()\n",
    "\n"
   ]
  },
  {
   "cell_type": "code",
   "execution_count": 15,
   "metadata": {},
   "outputs": [
    {
     "data": {
      "image/png": "[encoded data removed]",
      "text/plain": [
       "<Figure size 432x288 with 1 Axes>"
      ]
     },
     "metadata": {
      "needs_background": "light"
     },
     "output_type": "display_data"
    }
   ],
   "source": [
    "plt.figure()\n",
    "lw=2\n",
    "plt.plot(fpr_tr, tpr_tr, color='darkorange',\n",
    "         lw=lw, label='ROC curve (area = %0.2f)' %auc(fpr_tr, tpr_tr))\n",
    "plt.plot([0, 1], [0, 1], color='navy', lw=lw, linestyle='--')\n",
    "plt.xlim([0.0, 1.0])\n",
    "plt.ylim([0.0, 1.05])\n",
    "plt.xlabel('False Positive Rate')\n",
    "plt.ylabel('True Positive Rate')\n",
    "plt.title(' Training Receiver operating characteristic')\n",
    "plt.legend(loc=\"lower right\")\n",
    "plt.show()"
   ]
  },
  {
   "cell_type": "markdown",
   "metadata": {},
   "source": [
    "### iii. Unsupervised Learning: Run k-means algorithm on the whole training set. Ignore the labels of the data, and assume k = 2.\n",
    "\n",
    "#### A. Run the k-means algorithm multiple times. Make sure that you initialize the algoritm randomly. How do you make sure that the algorithm was not trapped in a local minimum?\n",
    "\n",
    "To ensure that the algorithm dosent get trapped in local minimum \n",
    "\n",
    "-> used n_init=5 and used kmean++ to choose the best among the initial centroid points\n",
    "\n",
    "-> ran the  k-means algorithm multiple times with different seeds to make sure the algorithm will choose the clusters that are compact and far away from each other."
   ]
  },
  {
   "cell_type": "markdown",
   "metadata": {},
   "source": [
    "#### B. Compute the centers of the two clusters and find the closest 30 data points to each center. Read the true labels of those 30 data points and take a majority poll within them. The majority poll becomes the label predicted by k-means for the members of each cluster. Then compare the labels provided by k-means with the true labels of the training data and report the average accuracy, precision, recall, F-score, and AUC over M runs, and ROC and the confusion matrix for one of the runs.\n"
   ]
  },
  {
   "cell_type": "code",
   "execution_count": 29,
   "metadata": {},
   "outputs": [],
   "source": [
    "ps=[]\n",
    "rs=[]\n",
    "acs=[]\n",
    "fs=[]\n",
    "AUC=[]\n",
    "\n",
    "ps_tr=[]\n",
    "rs_tr=[]\n",
    "acs_tr=[]\n",
    "fs_tr=[]\n",
    "AUC_tr=[]\n",
    "for M in range(0,30):\n",
    "    train_df=pd.DataFrame\n",
    "    test_df=pd.DataFrame\n",
    "    train_x=pd.DataFrame\n",
    "    train_y=pd.DataFrame\n",
    "    pred_y_tr=pd.DataFrame\n",
    "    mal_df=df_new[df_new[1]==0]\n",
    "    ben_df=df_new[df_new[1]==1]\n",
    "    test_df=mal_df.sample(frac=0.2).append(ben_df.sample(frac=0.2))\n",
    "    index_todrop = test_df.index\n",
    "    train_df=df_new.drop(index = index_todrop)\n",
    "\n",
    "    train_y=train_df.loc[:,1]\n",
    "    train_x=train_df.iloc[:,2:]\n",
    "    test_y=test_df.loc[:,1]\n",
    "    test_x=test_df.iloc[:,2:]\n",
    "    \n",
    "    train_x=train_x.reset_index(drop=True)\n",
    "    train_y=train_y.reset_index(drop=True)\n",
    "    test_x=test_x.reset_index(drop=True)\n",
    "    test_y=test_y.reset_index(drop=True)\n",
    "    kmeans=KMeans(n_clusters=2,init='k-means++',n_init=5,random_state=random.randint(0,100)).fit(train_x)\n",
    "    neigh = NearestNeighbors(n_neighbors=30,algorithm='brute').fit(train_x)\n",
    "    distances, indices = neigh.kneighbors(kmeans.cluster_centers_)\n",
    "    cluster0=train_y.loc[indices[0]] #true values for 30 points in cluster 0      \n",
    "    #cluster1=pred_y_tr.loc[indices[1]]\n",
    "    poll0=cluster0.value_counts()\n",
    "    #cluster0=train_y.loc[indices[0]]\n",
    "\n",
    "\n",
    "\n",
    "    cluster1=train_y.loc[indices[1]] #true values for 30 points cluster 1\n",
    "    poll1=cluster1.value_counts()\n",
    "    #cluster1.value_counts()\n",
    "\n",
    "    pred_y_ = kmeans.labels_\n",
    "    pred_y_=pd.DataFrame(pred_y_)\n",
    "    pred_y_0=pred_y_[pred_y_[0]==0]\n",
    "    pred_y_1=pred_y_[pred_y_[0]==1]\n",
    "    max_index_0=np.argmax(poll0)\n",
    "    max_index_1=np.argmax(poll1)\n",
    "    pred_y_0['class']=max_index_0\n",
    "    pred_y_1['class']=max_index_1\n",
    "    pred_y_tr=pd.concat([pred_y_0['class'],pred_y_1['class']],axis=0)\n",
    "    pred_y_tr=pred_y_tr.sort_index()\n",
    "    \n",
    "    ps_tr.append(precision_score(train_y, pred_y_tr))\n",
    "    rs_tr.append(recall_score(train_y, pred_y_tr))\n",
    "    acs_tr.append(accuracy_score(train_y, pred_y_tr)) \n",
    "    fs_tr.append(f1_score(train_y, pred_y_tr))\n",
    "    fpr_tr, tpr_tr, _ = roc_curve(train_y,pred_y_tr)\n",
    "    AUC_tr.append(auc(fpr_tr, tpr_tr))\n",
    "    \n",
    "    pred_y = kmeans.predict(test_x)\n",
    "    ps.append(precision_score(test_y, pred_y))\n",
    "    rs.append(recall_score(test_y, pred_y))\n",
    "    acs.append(accuracy_score(test_y, pred_y)) \n",
    "    fs.append(f1_score(test_y, pred_y))\n",
    "    fpr, tpr, _ = roc_curve(test_y,pred_y)\n",
    "    AUC.append(auc(fpr, tpr))"
   ]
  },
  {
   "cell_type": "markdown",
   "metadata": {},
   "source": [
    "\n",
    "#### C. Classify test data based on their proximity to the centers of the clusters.Report the average accuracy, precision, recall, F-score, and AUC over M runs, and ROC and the confusion matrix for one of the runs for the test data."
   ]
  },
  {
   "cell_type": "code",
   "execution_count": 30,
   "metadata": {},
   "outputs": [
    {
     "name": "stdout",
     "output_type": "stream",
     "text": [
      "('avg train precision score: ', 0.8447906979789594)\n",
      "('avg train f1 score: ', 0.9053995135881362)\n",
      "('avg train recall score: ', 0.9754079254079254)\n",
      "('avg train AUC score: ', 0.8369196489784725)\n",
      "('avg train acuracy score: ', 0.8721491228070176)\n",
      "('avg test precision score: ', 0.4110815276955982)\n",
      "('avg test f1 score: ', 0.4192462775553748)\n",
      "('avg test recall score: ', 0.4384976525821596)\n",
      "('avg test AUC score: ', 0.4625027945450481)\n",
      "('avg test acuracy score: ', 0.4563421828908555)\n"
     ]
    }
   ],
   "source": [
    "print(\"avg train precision score: \",statistics.mean(ps_tr))\n",
    "print(\"avg train f1 score: \",statistics.mean(fs_tr))\n",
    "print(\"avg train recall score: \",statistics.mean(rs_tr))\n",
    "print(\"avg train AUC score: \",statistics.mean(AUC_tr))\n",
    "print(\"avg train acuracy score: \",statistics.mean(acs_tr))\n",
    "print(\"avg test precision score: \",statistics.mean(ps))\n",
    "print(\"avg test f1 score: \",statistics.mean(fs))\n",
    "print(\"avg test recall score: \",statistics.mean(rs))\n",
    "print(\"avg test AUC score: \",statistics.mean(AUC))\n",
    "print(\"avg test acuracy score: \",statistics.mean(acs))"
   ]
  },
  {
   "cell_type": "code",
   "execution_count": 31,
   "metadata": {},
   "outputs": [
    {
     "name": "stdout",
     "output_type": "stream",
     "text": [
      "Confusion Matrix for the train set: \n",
      "[[122  48]\n",
      " [  7 279]]\n",
      "Confusion Matrix for the test set: \n",
      "[[27 15]\n",
      " [ 2 69]]\n"
     ]
    }
   ],
   "source": [
    "conf_tr = confusion_matrix(train_y,pred_y_tr)\n",
    "print(\"Confusion Matrix for the train set: \")\n",
    "print(conf_tr)\n",
    "\n",
    "conf = confusion_matrix(test_y,pred_y)\n",
    "print(\"Confusion Matrix for the test set: \")\n",
    "print(conf)"
   ]
  },
  {
   "cell_type": "code",
   "execution_count": 32,
   "metadata": {},
   "outputs": [
    {
     "data": {
      "image/png": "[encoded data removed]",
      "text/plain": [
       "<Figure size 432x288 with 1 Axes>"
      ]
     },
     "metadata": {
      "needs_background": "light"
     },
     "output_type": "display_data"
    }
   ],
   "source": [
    "plt.figure()\n",
    "lw=2\n",
    "plt.plot(fpr_tr, tpr_tr, color='darkorange',\n",
    "         lw=lw, label='ROC curve (area = %0.2f)' %auc(fpr_tr, tpr_tr))\n",
    "plt.plot([0, 1], [0, 1], color='navy', lw=lw, linestyle='--')\n",
    "plt.xlim([0.0, 1.0])\n",
    "plt.ylim([0.0, 1.05])\n",
    "plt.xlabel('False Positive Rate')\n",
    "plt.ylabel('True Positive Rate')\n",
    "plt.title(' Training Receiver operating characteristic')\n",
    "plt.legend(loc=\"lower right\")\n",
    "plt.show()"
   ]
  },
  {
   "cell_type": "code",
   "execution_count": 33,
   "metadata": {},
   "outputs": [
    {
     "data": {
      "image/png": "[encoded data removed]",
      "text/plain": [
       "<Figure size 432x288 with 1 Axes>"
      ]
     },
     "metadata": {
      "needs_background": "light"
     },
     "output_type": "display_data"
    }
   ],
   "source": [
    "plt.figure()\n",
    "lw=2\n",
    "plt.plot(fpr, tpr, color='darkorange',\n",
    "         lw=lw, label='ROC curve (area = %0.2f)' %auc(fpr, tpr))\n",
    "plt.plot([0, 1], [0, 1], color='navy', lw=lw, linestyle='--')\n",
    "plt.xlim([0.0, 1.0])\n",
    "plt.ylim([0.0, 1.05])\n",
    "plt.xlabel('False Positive Rate')\n",
    "plt.ylabel('True Positive Rate')\n",
    "plt.title('Test Receiver operating characteristic')\n",
    "plt.legend(loc=\"lower right\")\n",
    "plt.show()\n"
   ]
  },
  {
   "cell_type": "markdown",
   "metadata": {},
   "source": [
    "### iv. Spectral Clustering: Repeat 1(b)iii using spectral clustering, which is clustering based on kernels. Research what spectral clustering is. Use RBF kernel.\n",
    "\n",
    "spectral clustering performs dimensionality reduction before clustering and is used when the structure of the individual clusters is highly non-convex or when a measure of the center and spread of the cluster is not a suitable description of the complete cluster "
   ]
  },
  {
   "cell_type": "code",
   "execution_count": 54,
   "metadata": {},
   "outputs": [
    {
     "name": "stdout",
     "output_type": "stream",
     "text": [
      "         3         4         5         6         7         8         9   \\\n",
      "0  0.628045  0.000130  0.000118  0.000076  0.000039  0.000246  0.000089   \n",
      "1  0.546619  0.000071  0.000092  0.000090  0.000050  0.000133  0.000045   \n",
      "\n",
      "         10        11        12    ...           20        21        22  \\\n",
      "0  0.000405  0.001729  0.002877    ...     0.018148  0.032597  0.118489   \n",
      "1  0.000374  0.000806  0.002580    ...     0.013332  0.020421  0.088324   \n",
      "\n",
      "         23        24        25        26        27        28        29  \n",
      "0  0.758175  0.000177  0.000271  0.000259  0.000107  0.000381  0.000113  \n",
      "1  0.826283  0.000102  0.000249  0.000280  0.000113  0.000232  0.000066  \n",
      "\n",
      "[2 rows x 27 columns]\n",
      "         3         4         5         6         7         8         9   \\\n",
      "0  0.627808  0.000131  0.000120  0.000078  0.000040  0.000247  0.000089   \n",
      "1  0.544212  0.000066  0.000086  0.000086  0.000049  0.000123  0.000041   \n",
      "\n",
      "         10        11        12    ...           20        21        22  \\\n",
      "0  0.000410  0.001792  0.002917    ...     0.018211  0.033086  0.118969   \n",
      "1  0.000361  0.000714  0.002491    ...     0.012897  0.018762  0.085612   \n",
      "\n",
      "         23        24        25        26        27        28        29  \n",
      "0  0.758135  0.000178  0.000274  0.000264  0.000108  0.000382  0.000114  \n",
      "1  0.828280  0.000094  0.000232  0.000263  0.000111  0.000208  0.000059  \n",
      "\n",
      "[2 rows x 27 columns]\n",
      "         3         4         5         6         7         8         9   \\\n",
      "0  0.627535  0.000130  0.000117  0.000076  0.000039  0.000245  0.000088   \n",
      "1  0.543888  0.000066  0.000090  0.000090  0.000050  0.000124  0.000041   \n",
      "\n",
      "         10        11        12    ...           20        21        22  \\\n",
      "0  0.000412  0.001812  0.002933    ...     0.018154  0.033075  0.118462   \n",
      "1  0.000357  0.000702  0.002452    ...     0.012927  0.018935  0.085729   \n",
      "\n",
      "         23        24        25        26        27        28        29  \n",
      "0  0.758492  0.000176  0.000265  0.000254  0.000106  0.000379  0.000112  \n",
      "1  0.828472  0.000096  0.000248  0.000281  0.000112  0.000213  0.000062  \n",
      "\n",
      "[2 rows x 27 columns]\n",
      "         3         4         5         6         7         8         9   \\\n",
      "0  0.544336  0.000071  0.000091  0.000090  0.000050  0.000133  0.000044   \n",
      "1  0.629145  0.000128  0.000115  0.000074  0.000038  0.000242  0.000087   \n",
      "\n",
      "         10        11        12    ...           20        21        22  \\\n",
      "0  0.000374  0.000794  0.002584    ...     0.013281  0.020235  0.088136   \n",
      "1  0.000413  0.001761  0.002925    ...     0.018094  0.032500  0.117969   \n",
      "\n",
      "         23        24        25        26        27        28        29  \n",
      "0  0.827420  0.000102  0.000248  0.000281  0.000113  0.000228  0.000065  \n",
      "1  0.757352  0.000172  0.000258  0.000247  0.000105  0.000373  0.000110  \n",
      "\n",
      "[2 rows x 27 columns]\n",
      "         3         4         5         6         7         8         9   \\\n",
      "0  0.545234  0.000071  0.000094  0.000093  0.000051  0.000133  0.000044   \n",
      "1  0.628737  0.000129  0.000116  0.000075  0.000039  0.000244  0.000088   \n",
      "\n",
      "         10        11        12    ...           20        21        22  \\\n",
      "0  0.000377  0.000785  0.002604    ...     0.013284  0.019944  0.088110   \n",
      "1  0.000403  0.001773  0.002854    ...     0.018149  0.032816  0.118348   \n",
      "\n",
      "         23        24        25        26        27        28        29  \n",
      "0  0.827121  0.000103  0.000256  0.000285  0.000116  0.000232  0.000066  \n",
      "1  0.757546  0.000176  0.000263  0.000250  0.000105  0.000379  0.000112  \n",
      "\n",
      "[2 rows x 27 columns]\n",
      "         3         4         5         6         7         8         9   \\\n",
      "0  0.628639  0.000128  0.000114  0.000072  0.000038  0.000244  0.000087   \n",
      "1  0.546293  0.000070  0.000091  0.000090  0.000050  0.000132  0.000044   \n",
      "\n",
      "         10        11        12    ...           20        21        22  \\\n",
      "0  0.000412  0.001797  0.002898    ...     0.018082  0.032678  0.117761   \n",
      "1  0.000376  0.000786  0.002575    ...     0.013227  0.019886  0.087492   \n",
      "\n",
      "         23        24        25        26        27        28        29  \n",
      "0  0.757743  0.000174  0.000255  0.000238  0.000104  0.000375  0.000111  \n",
      "1  0.826441  0.000102  0.000249  0.000277  0.000113  0.000227  0.000065  \n",
      "\n",
      "[2 rows x 27 columns]\n",
      "         3         4         5         6         7        8         9   \\\n",
      "0  0.543621  0.000070  0.000093  0.000093  0.000051  0.00013  0.000044   \n",
      "1  0.627328  0.000133  0.000121  0.000077  0.000040  0.00025  0.000090   \n",
      "\n",
      "         10        11        12    ...           20        21        22  \\\n",
      "0  0.000379  0.000774  0.002621    ...     0.013216  0.019629  0.087678   \n",
      "1  0.000416  0.001830  0.002963    ...     0.018286  0.033471  0.119329   \n",
      "\n",
      "         23       24        25        26        27        28        29  \n",
      "0  0.828207  0.00010  0.000250  0.000283  0.000115  0.000223  0.000064  \n",
      "1  0.758350  0.00018  0.000273  0.000258  0.000107  0.000386  0.000115  \n",
      "\n",
      "[2 rows x 27 columns]\n",
      "         3         4         5         6         7         8         9   \\\n",
      "0  0.547429  0.000073  0.000096  0.000095  0.000052  0.000137  0.000046   \n",
      "1  0.628655  0.000132  0.000120  0.000077  0.000039  0.000247  0.000089   \n",
      "\n",
      "         10        11        12    ...           20        21        22  \\\n",
      "0  0.000383  0.000823  0.002650    ...     0.013494  0.020872  0.089513   \n",
      "1  0.000416  0.001787  0.002952    ...     0.018223  0.033178  0.118846   \n",
      "\n",
      "         23        24        25        26        27        28        29  \n",
      "0  0.825411  0.000106  0.000264  0.000296  0.000118  0.000237  0.000068  \n",
      "1  0.757415  0.000178  0.000269  0.000256  0.000107  0.000379  0.000114  \n",
      "\n",
      "[2 rows x 27 columns]\n",
      "         3         4         5         6         7         8         9   \\\n",
      "0  0.628728  0.000127  0.000114  0.000073  0.000038  0.000239  0.000086   \n",
      "1  0.545605  0.000070  0.000092  0.000089  0.000049  0.000131  0.000044   \n",
      "\n",
      "         10        11        12    ...           20        21        22  \\\n",
      "0  0.000399  0.001688  0.002816    ...     0.018016  0.032389  0.117448   \n",
      "1  0.000379  0.000777  0.002608    ...     0.013245  0.019816  0.087787   \n",
      "\n",
      "         23        24        25        26        27        28        29  \n",
      "0  0.757884  0.000174  0.000259  0.000248  0.000105  0.000371  0.000110  \n",
      "1  0.826824  0.000101  0.000250  0.000276  0.000112  0.000226  0.000065  \n",
      "\n",
      "[2 rows x 27 columns]\n",
      "         3         4         5         6         7         8         9   \\\n",
      "0  0.628699  0.000130  0.000117  0.000073  0.000038  0.000246  0.000089   \n",
      "1  0.545784  0.000069  0.000089  0.000089  0.000049  0.000131  0.000043   \n",
      "\n",
      "         10        11        12    ...           20        21        22  \\\n",
      "0  0.000397  0.001773  0.002848    ...     0.018179  0.033047  0.118692   \n",
      "1  0.000372  0.000778  0.002564    ...     0.013251  0.020002  0.087879   \n",
      "\n",
      "         23        24        25        26        27        28        29  \n",
      "0  0.757484  0.000177  0.000266  0.000254  0.000106  0.000379  0.000113  \n",
      "1  0.826685  0.000100  0.000239  0.000271  0.000111  0.000224  0.000063  \n",
      "\n",
      "[2 rows x 27 columns]\n",
      "         3         4         5         6         7         8         9   \\\n",
      "0  0.628620  0.000131  0.000118  0.000071  0.000038  0.000247  0.000089   \n",
      "1  0.544262  0.000067  0.000089  0.000089  0.000050  0.000124  0.000041   \n",
      "\n",
      "         10        11        12    ...           20        21        22  \\\n",
      "0  0.000414  0.001805  0.002939    ...     0.018213  0.033014  0.118788   \n",
      "1  0.000368  0.000720  0.002541    ...     0.012950  0.018541  0.085878   \n",
      "\n",
      "         23        24        25        26        27        28        29  \n",
      "0  0.757466  0.000178  0.000266  0.000242  0.000105  0.000379  0.000113  \n",
      "1  0.828233  0.000095  0.000235  0.000269  0.000111  0.000210  0.000060  \n",
      "\n",
      "[2 rows x 27 columns]\n",
      "         3         4         5         6         7         8         9   \\\n",
      "0  0.629371  0.000128  0.000114  0.000071  0.000038  0.000242  0.000087   \n",
      "1  0.544305  0.000072  0.000094  0.000092  0.000051  0.000136  0.000045   \n",
      "\n",
      "         10        11        12    ...           20        21        22  \\\n",
      "0  0.000399  0.001750  0.002858    ...     0.018068  0.032335  0.117935   \n",
      "1  0.000373  0.000798  0.002572    ...     0.013393  0.020556  0.088724   \n",
      "\n",
      "         23        24        25        26        27        28        29  \n",
      "0  0.757322  0.000174  0.000260  0.000241  0.000105  0.000374  0.000110  \n",
      "1  0.827361  0.000105  0.000258  0.000285  0.000117  0.000235  0.000066  \n",
      "\n",
      "[2 rows x 27 columns]\n"
     ]
    },
    {
     "name": "stdout",
     "output_type": "stream",
     "text": [
      "         3         4         5         6         7         8         9   \\\n",
      "0  0.627998  0.000129  0.000115  0.000071  0.000038  0.000244  0.000088   \n",
      "1  0.545516  0.000070  0.000094  0.000095  0.000052  0.000132  0.000043   \n",
      "\n",
      "         10        11        12    ...           20        21        22  \\\n",
      "0  0.000406  0.001785  0.002893    ...     0.018159  0.032937  0.118470   \n",
      "1  0.000363  0.000773  0.002538    ...     0.013164  0.019870  0.087694   \n",
      "\n",
      "         23        24        25        26        27        28        29  \n",
      "0  0.758099  0.000176  0.000261  0.000243  0.000105  0.000378  0.000112  \n",
      "1  0.826900  0.000101  0.000262  0.000295  0.000118  0.000230  0.000065  \n",
      "\n",
      "[2 rows x 27 columns]\n",
      "         3         4         5         6         7         8         9   \\\n",
      "0  0.628554  0.000129  0.000117  0.000074  0.000038  0.000245  0.000088   \n",
      "1  0.546333  0.000071  0.000092  0.000091  0.000050  0.000134  0.000044   \n",
      "\n",
      "         10        11        12    ...           20        21        22  \\\n",
      "0  0.000409  0.001792  0.002916    ...     0.018143  0.032963  0.118368   \n",
      "1  0.000371  0.000797  0.002570    ...     0.013380  0.020657  0.088875   \n",
      "\n",
      "         23        24        25        26        27        28        29  \n",
      "0  0.757648  0.000176  0.000267  0.000252  0.000105  0.000378  0.000113  \n",
      "1  0.826085  0.000104  0.000257  0.000289  0.000115  0.000230  0.000066  \n",
      "\n",
      "[2 rows x 27 columns]\n",
      "         3         4         5         6         7         8         9   \\\n",
      "0  0.544474  0.000068  0.000091  0.000091  0.000051  0.000127  0.000043   \n",
      "1  0.627438  0.000130  0.000117  0.000075  0.000039  0.000247  0.000089   \n",
      "\n",
      "        10        11        12    ...           20        21        22  \\\n",
      "0  0.00036  0.000722  0.002496    ...     0.013062  0.019325  0.086704   \n",
      "1  0.00041  0.001772  0.002911    ...     0.018191  0.033009  0.118622   \n",
      "\n",
      "         23        24        25        26        27        28        29  \n",
      "0  0.827773  0.000098  0.000250  0.000284  0.000114  0.000222  0.000063  \n",
      "1  0.758514  0.000177  0.000265  0.000254  0.000106  0.000382  0.000114  \n",
      "\n",
      "[2 rows x 27 columns]\n",
      "         3         4         5         6         7         8         9   \\\n",
      "0  0.627150  0.000131  0.000117  0.000075  0.000039  0.000248  0.000089   \n",
      "1  0.544472  0.000069  0.000094  0.000094  0.000052  0.000127  0.000043   \n",
      "\n",
      "         10        11        12    ...           20        21        22  \\\n",
      "0  0.000422  0.001822  0.002974    ...     0.018179  0.032943  0.118470   \n",
      "1  0.000364  0.000757  0.002531    ...     0.013024  0.019397  0.086542   \n",
      "\n",
      "         23        24        25        26        27        28        29  \n",
      "0  0.758726  0.000177  0.000264  0.000251  0.000105  0.000382  0.000113  \n",
      "1  0.827867  0.000098  0.000259  0.000286  0.000116  0.000218  0.000064  \n",
      "\n",
      "[2 rows x 27 columns]\n",
      "         3         4         5         6         7         8         9   \\\n",
      "0  0.627120  0.000132  0.000120  0.000078  0.000040  0.000249  0.000090   \n",
      "1  0.544377  0.000068  0.000092  0.000092  0.000051  0.000128  0.000043   \n",
      "\n",
      "         10        11        12    ...           20        21        22  \\\n",
      "0  0.000416  0.001756  0.002958    ...     0.018221  0.032796  0.118945   \n",
      "1  0.000373  0.000748  0.002571    ...     0.013037  0.019244  0.086628   \n",
      "\n",
      "         23        24        25        26        27        28        29  \n",
      "0  0.758714  0.000180  0.000272  0.000260  0.000107  0.000385  0.000115  \n",
      "1  0.827759  0.000098  0.000246  0.000279  0.000113  0.000220  0.000063  \n",
      "\n",
      "[2 rows x 27 columns]\n",
      "         3         4         5         6         7         8         9   \\\n",
      "0  0.546832  0.000071  0.000094  0.000092  0.000051  0.000134  0.000045   \n",
      "1  0.628618  0.000131  0.000116  0.000072  0.000037  0.000248  0.000090   \n",
      "\n",
      "         10        11        12    ...           20        21        22  \\\n",
      "0  0.000370  0.000801  0.002566    ...     0.013363  0.020386  0.088620   \n",
      "1  0.000413  0.001841  0.002932    ...     0.018297  0.033394  0.119142   \n",
      "\n",
      "         23        24        25        26        27        28        29  \n",
      "0  0.826033  0.000104  0.000259  0.000289  0.000116  0.000233  0.000067  \n",
      "1  0.757303  0.000178  0.000264  0.000245  0.000104  0.000383  0.000114  \n",
      "\n",
      "[2 rows x 27 columns]\n",
      "         3         4         5         6         7         8         9   \\\n",
      "0  0.546256  0.000071  0.000093  0.000093  0.000051  0.000133  0.000044   \n",
      "1  0.628531  0.000129  0.000116  0.000075  0.000039  0.000246  0.000088   \n",
      "\n",
      "         10        11        12    ...           20        21        22  \\\n",
      "0  0.000379  0.000802  0.002613    ...     0.013274  0.019937  0.087995   \n",
      "1  0.000405  0.001784  0.002900    ...     0.018165  0.033091  0.118586   \n",
      "\n",
      "         23        24        25        26        27        28        29  \n",
      "0  0.826481  0.000103  0.000248  0.000285  0.000114  0.000228  0.000065  \n",
      "1  0.757638  0.000175  0.000267  0.000258  0.000106  0.000380  0.000113  \n",
      "\n",
      "[2 rows x 27 columns]\n",
      "         3         4         5         6         7         8         9   \\\n",
      "0  0.626235  0.000128  0.000115  0.000074  0.000038  0.000243  0.000087   \n",
      "1  0.542090  0.000072  0.000094  0.000091  0.000051  0.000134  0.000045   \n",
      "\n",
      "         10        11        12    ...           20        21        22  \\\n",
      "0  0.000409  0.001779  0.002884    ...     0.018061  0.032768  0.117734   \n",
      "1  0.000379  0.000794  0.002614    ...     0.013428  0.020554  0.089025   \n",
      "\n",
      "         23        24        25        26        27        28        29  \n",
      "0  0.759770  0.000175  0.000260  0.000250  0.000104  0.000379  0.000111  \n",
      "1  0.828821  0.000104  0.000261  0.000284  0.000117  0.000233  0.000067  \n",
      "\n",
      "[2 rows x 27 columns]\n",
      "         3         4         5         6         7         8         9   \\\n",
      "0  0.546321  0.000073  0.000093  0.000090  0.000050  0.000136  0.000045   \n",
      "1  0.629392  0.000130  0.000116  0.000075  0.000039  0.000247  0.000088   \n",
      "\n",
      "        10        11        12    ...           20        21        22  \\\n",
      "0  0.00037  0.000809  0.002541    ...     0.013438  0.020710  0.088943   \n",
      "1  0.00041  0.001826  0.002917    ...     0.018156  0.033061  0.118442   \n",
      "\n",
      "         23        24        25        26        27        28        29  \n",
      "0  0.826144  0.000105  0.000257  0.000289  0.000115  0.000235  0.000067  \n",
      "1  0.756888  0.000177  0.000263  0.000253  0.000106  0.000381  0.000112  \n",
      "\n",
      "[2 rows x 27 columns]\n",
      "         3         4         5         6         7         8         9   \\\n",
      "0  0.628247  0.000129  0.000117  0.000075  0.000039  0.000242  0.000088   \n",
      "1  0.545374  0.000070  0.000090  0.000087  0.000049  0.000132  0.000044   \n",
      "\n",
      "         10        11        12    ...           20        21        22  \\\n",
      "0  0.000406  0.001748  0.002892    ...     0.018128  0.032881  0.118367   \n",
      "1  0.000366  0.000784  0.002515    ...     0.013302  0.020141  0.088082   \n",
      "\n",
      "         23        24        25        26        27        28        29  \n",
      "0  0.758011  0.000174  0.000267  0.000253  0.000107  0.000374  0.000112  \n",
      "1  0.826922  0.000102  0.000251  0.000279  0.000113  0.000228  0.000065  \n",
      "\n",
      "[2 rows x 27 columns]\n",
      "         3         4         5         6         7         8         9   \\\n",
      "0  0.629039  0.000127  0.000117  0.000076  0.000038  0.000242  0.000087   \n",
      "1  0.546761  0.000072  0.000095  0.000092  0.000051  0.000135  0.000045   \n",
      "\n",
      "         10        11        12    ...           20        21        22  \\\n",
      "0  0.000404  0.001749  0.002870    ...     0.018032  0.032200  0.117631   \n",
      "1  0.000371  0.000775  0.002546    ...     0.013440  0.020251  0.089017   \n",
      "\n",
      "         23        24        25        26        27        28        29  \n",
      "0  0.757503  0.000172  0.000265  0.000256  0.000105  0.000374  0.000111  \n",
      "1  0.825923  0.000105  0.000255  0.000287  0.000117  0.000235  0.000066  \n",
      "\n",
      "[2 rows x 27 columns]\n",
      "         3         4         5         6         7         8         9   \\\n",
      "0  0.627837  0.000128  0.000117  0.000074  0.000038  0.000244  0.000088   \n",
      "1  0.543849  0.000069  0.000092  0.000090  0.000050  0.000130  0.000044   \n",
      "\n",
      "         10        11        12    ...           20        21        22  \\\n",
      "0  0.000398  0.001741  0.002858    ...     0.018096  0.032763  0.118176   \n",
      "1  0.000368  0.000775  0.002550    ...     0.013161  0.019879  0.087388   \n",
      "\n",
      "         23        24        25        26        27        28        29  \n",
      "0  0.758393  0.000175  0.000269  0.000257  0.000107  0.000379  0.000112  \n",
      "1  0.828123  0.000101  0.000254  0.000284  0.000114  0.000226  0.000065  \n",
      "\n",
      "[2 rows x 27 columns]\n"
     ]
    },
    {
     "name": "stdout",
     "output_type": "stream",
     "text": [
      "         3         4         5         6         7         8         9   \\\n",
      "0  0.545280  0.000070  0.000092  0.000092  0.000051  0.000130  0.000043   \n",
      "1  0.628067  0.000131  0.000117  0.000074  0.000039  0.000246  0.000089   \n",
      "\n",
      "         10        11        12    ...           20        21        22  \\\n",
      "0  0.000362  0.000762  0.002489    ...     0.013156  0.019845  0.087154   \n",
      "1  0.000410  0.001775  0.002910    ...     0.018204  0.033176  0.118761   \n",
      "\n",
      "         23        24        25        26        27        28        29  \n",
      "0  0.827200  0.000100  0.000253  0.000288  0.000115  0.000228  0.000065  \n",
      "1  0.757973  0.000177  0.000268  0.000253  0.000107  0.000380  0.000113  \n",
      "\n",
      "[2 rows x 27 columns]\n",
      "         3         4         5         6         7         8         9   \\\n",
      "0  0.628862  0.000128  0.000117  0.000076  0.000039  0.000242  0.000087   \n",
      "1  0.546057  0.000070  0.000094  0.000094  0.000052  0.000131  0.000044   \n",
      "\n",
      "         10        11        12    ...           20        21        22  \\\n",
      "0  0.000400  0.001719  0.002853    ...     0.018007  0.032222  0.117547   \n",
      "1  0.000372  0.000786  0.002560    ...     0.013200  0.019940  0.087453   \n",
      "\n",
      "         23        24        25        26        27        28        29  \n",
      "0  0.757750  0.000173  0.000263  0.000254  0.000107  0.000375  0.000110  \n",
      "1  0.826599  0.000101  0.000258  0.000290  0.000117  0.000229  0.000065  \n",
      "\n",
      "[2 rows x 27 columns]\n",
      "         3         4         5         6         7         8         9   \\\n",
      "0  0.547664  0.000072  0.000094  0.000092  0.000051  0.000135  0.000045   \n",
      "1  0.629166  0.000132  0.000120  0.000076  0.000039  0.000247  0.000090   \n",
      "\n",
      "         10        11        12    ...           20        21        22  \\\n",
      "0  0.000374  0.000784  0.002587    ...     0.013352  0.020024  0.088500   \n",
      "1  0.000404  0.001812  0.002891    ...     0.018236  0.033236  0.119082   \n",
      "\n",
      "         23        24        25        26        27        28        29  \n",
      "0  0.825362  0.000103  0.000250  0.000281  0.000114  0.000233  0.000065  \n",
      "1  0.756983  0.000179  0.000274  0.000260  0.000108  0.000382  0.000115  \n",
      "\n",
      "[2 rows x 27 columns]\n",
      "         3         4         5         6         7         8         9   \\\n",
      "0  0.544058  0.000071  0.000097  0.000094  0.000052  0.000134  0.000045   \n",
      "1  0.628748  0.000129  0.000116  0.000073  0.000038  0.000244  0.000088   \n",
      "\n",
      "         10        11        12    ...           20        21        22  \\\n",
      "0  0.000371  0.000795  0.002584    ...     0.013345  0.020599  0.088755   \n",
      "1  0.000409  0.001764  0.002896    ...     0.018124  0.032697  0.118289   \n",
      "\n",
      "         23        24        25        26        27        28        29  \n",
      "0  0.827526  0.000103  0.000266  0.000294  0.000118  0.000235  0.000067  \n",
      "1  0.757567  0.000175  0.000263  0.000249  0.000106  0.000377  0.000112  \n",
      "\n",
      "[2 rows x 27 columns]\n",
      "         3         4         5         6         7         8         9   \\\n",
      "0  0.629448  0.000128  0.000116  0.000076  0.000039  0.000242  0.000087   \n",
      "1  0.545930  0.000070  0.000093  0.000093  0.000051  0.000134  0.000044   \n",
      "\n",
      "         10        11        12    ...           20        21        22  \\\n",
      "0  0.000405  0.001762  0.002879    ...     0.018074  0.032748  0.117943   \n",
      "1  0.000375  0.000795  0.002594    ...     0.013309  0.020180  0.088296   \n",
      "\n",
      "         23        24        25        26        27        28        29  \n",
      "0  0.757106  0.000173  0.000263  0.000256  0.000105  0.000375  0.000111  \n",
      "1  0.826391  0.000102  0.000256  0.000287  0.000115  0.000233  0.000066  \n",
      "\n",
      "[2 rows x 27 columns]\n",
      "         3         4         5         6         7         8         9   \\\n",
      "0  0.628399  0.000127  0.000113  0.000071  0.000038  0.000240  0.000086   \n",
      "1  0.546121  0.000071  0.000093  0.000089  0.000050  0.000133  0.000045   \n",
      "\n",
      "         10        11        12    ...           20        21        22  \\\n",
      "0  0.000406  0.001717  0.002861    ...     0.017970  0.032077  0.117104   \n",
      "1  0.000368  0.000801  0.002542    ...     0.013321  0.020525  0.088168   \n",
      "\n",
      "         23        24        25        26        27        28        29  \n",
      "0  0.758286  0.000171  0.000251  0.000234  0.000103  0.000368  0.000109  \n",
      "1  0.826356  0.000102  0.000256  0.000279  0.000115  0.000230  0.000066  \n",
      "\n",
      "[2 rows x 27 columns]\n"
     ]
    }
   ],
   "source": [
    "from sklearn.cluster import SpectralClustering\n",
    "ps=[]\n",
    "rs=[]\n",
    "acs=[]\n",
    "fs=[]\n",
    "AUC=[]\n",
    "\n",
    "ps_tr=[]\n",
    "rs_tr=[]\n",
    "acs_tr=[]\n",
    "fs_tr=[]\n",
    "AUC_tr=[]\n",
    "for M in range(0,30):\n",
    "    train_df=pd.DataFrame\n",
    "    test_df=pd.DataFrame\n",
    "    train_x=pd.DataFrame\n",
    "    train_y=pd.DataFrame\n",
    "    pred_y_tr=pd.DataFrame\n",
    "    mal_df=df_new[df_new[1]==0]\n",
    "    ben_df=df_new[df_new[1]==1]\n",
    "    test_df=mal_df.sample(frac=0.2).append(ben_df.sample(frac=0.2))\n",
    "    index_todrop = test_df.index\n",
    "    train_df=df_new.drop(index = index_todrop)\n",
    "    train_y=train_df.loc[:,1]\n",
    "    train_x=train_df.iloc[:,2:]\n",
    "    test_y=test_df.loc[:,1]\n",
    "    test_x=test_df.iloc[:,2:]\n",
    "    \n",
    "    train_x=train_x.reset_index(drop=True)\n",
    "    train_y=train_y.reset_index(drop=True)\n",
    "    test_x=test_x.reset_index(drop=True)\n",
    "    test_y=test_y.reset_index(drop=True)\n",
    "    sc=SpectralClustering(n_clusters=2,affinity='rbf',n_init=5,random_state=random.randint(0,100)).fit(train_x)\n",
    "    label=pd.DataFrame(sc.labels_)\n",
    "    label_0=label[label[0]==0].index\n",
    "    label_1=label[label[0]==1].index\n",
    "    cluster0=train_x.iloc[label_0,:]\n",
    "    cluster1=train_x.iloc[label_1,:]\n",
    "    \n",
    "    center0=cluster0.mean(axis=0)\n",
    "    center1=cluster1.mean(axis=0)\n",
    "\n",
    "    center=pd.DataFrame()\n",
    "    center[0]=center0\n",
    "    center[1]=center1\n",
    "    print(center.T)\n",
    "    neigh = NearestNeighbors(n_neighbors=30,algorithm='brute').fit(train_x)\n",
    "    #print(neigh.kneighbors())\n",
    "    distances, indices = neigh.kneighbors(center.T)\n",
    "    cluster0=train_y.loc[indices[0]] #true values for 30 points in cluster 0      \n",
    "    poll0=cluster0.value_counts()\n",
    "    cluster1=train_y.loc[indices[1]] #true values for 30 points cluster 1\n",
    "    poll1=cluster1.value_counts()\n",
    "    #cluster1.value_counts()\n",
    "\n",
    "    pred_y_ = sc.labels_\n",
    "    pred_y_=pd.DataFrame(pred_y_)\n",
    "    pred_y_0=pred_y_[pred_y_[0]==0]\n",
    "    pred_y_1=pred_y_[pred_y_[0]==1]\n",
    "    max_index_0=np.argmax(poll0)\n",
    "    max_index_1=np.argmax(poll1)\n",
    "    pred_y_0['class']=max_index_0\n",
    "    pred_y_1['class']=max_index_1\n",
    "    pred_y_tr=pd.concat([pred_y_0['class'],pred_y_1['class']],axis=0)\n",
    "    pred_y_tr=pred_y_tr.sort_index()                                                                                           \n",
    " \n",
    "    #pred_y_tr = sc.labels_\n",
    "    #print(pred_y_tr)\n",
    "    ps_tr.append(precision_score(train_y, pred_y_tr))\n",
    "    rs_tr.append(recall_score(train_y, pred_y_tr))\n",
    "    acs_tr.append(accuracy_score(train_y, pred_y_tr)) \n",
    "    fs_tr.append(f1_score(train_y, pred_y_tr))\n",
    "    fpr_tr, tpr_tr, _ = roc_curve(train_y,pred_y_tr)\n",
    "    AUC_tr.append(auc(fpr_tr, tpr_tr))\n",
    "    \n",
    "    pred_y = sc.fit_predict(test_x)\n",
    "    ps.append(precision_score(test_y, pred_y))\n",
    "    rs.append(recall_score(test_y, pred_y))\n",
    "    acs.append(accuracy_score(test_y, pred_y)) \n",
    "    fs.append(f1_score(test_y, pred_y))\n",
    "    fpr, tpr, _ = roc_curve(test_y,pred_y)\n",
    "    AUC.append(auc(fpr, tpr))"
   ]
  },
  {
   "cell_type": "code",
   "execution_count": 55,
   "metadata": {},
   "outputs": [
    {
     "name": "stdout",
     "output_type": "stream",
     "text": [
      "('avg train precision score: ', 0.8505727885245266)\n",
      "('avg train f1 score: ', 0.9066696891239245)\n",
      "('avg train recall score: ', 0.9707459207459208)\n",
      "('avg train AUC score: ', 0.8418435486082545)\n",
      "('avg train acuracy score: ', 0.8746345029239766)\n",
      "('avg test precision score: ', 0.26184475686205305)\n",
      "('avg test f1 score: ', 0.26122830679679804)\n",
      "('avg test recall score: ', 0.26995305164319244)\n",
      "('avg test AUC score: ', 0.35084954169461213)\n",
      "('avg test acuracy score: ', 0.3300884955752213)\n"
     ]
    }
   ],
   "source": [
    "print(\"avg train precision score: \",statistics.mean(ps_tr))\n",
    "print(\"avg train f1 score: \",statistics.mean(fs_tr))\n",
    "print(\"avg train recall score: \",statistics.mean(rs_tr))\n",
    "print(\"avg train AUC score: \",statistics.mean(AUC_tr))\n",
    "print(\"avg train acuracy score: \",statistics.mean(acs_tr))\n",
    "print(\"avg test precision score: \",statistics.mean(ps))\n",
    "print(\"avg test f1 score: \",statistics.mean(fs))\n",
    "print(\"avg test recall score: \",statistics.mean(rs))\n",
    "print(\"avg test AUC score: \",statistics.mean(AUC))\n",
    "print(\"avg test acuracy score: \",statistics.mean(acs))"
   ]
  },
  {
   "cell_type": "code",
   "execution_count": 56,
   "metadata": {},
   "outputs": [
    {
     "data": {
      "image/png": "[encoded data removed]",
      "text/plain": [
       "<Figure size 432x288 with 1 Axes>"
      ]
     },
     "metadata": {
      "needs_background": "light"
     },
     "output_type": "display_data"
    }
   ],
   "source": [
    "plt.figure()\n",
    "lw=2\n",
    "plt.plot(fpr_tr, tpr_tr, color='darkorange',\n",
    "         lw=lw, label='ROC curve (area = %0.2f)' %auc(fpr_tr, tpr_tr))\n",
    "plt.plot([0, 1], [0, 1], color='navy', lw=lw, linestyle='--')\n",
    "plt.xlim([0.0, 1.0])\n",
    "plt.ylim([0.0, 1.05])\n",
    "plt.xlabel('False Positive Rate')\n",
    "plt.ylabel('True Positive Rate')\n",
    "plt.title(' Training Receiver operating characteristic')\n",
    "plt.legend(loc=\"lower right\")\n",
    "plt.show()"
   ]
  },
  {
   "cell_type": "code",
   "execution_count": 57,
   "metadata": {},
   "outputs": [
    {
     "data": {
      "image/png": "[encoded data removed]",
      "text/plain": [
       "<Figure size 432x288 with 1 Axes>"
      ]
     },
     "metadata": {
      "needs_background": "light"
     },
     "output_type": "display_data"
    }
   ],
   "source": [
    "plt.figure()\n",
    "lw=2\n",
    "plt.plot(fpr, tpr, color='darkorange',\n",
    "         lw=lw, label='ROC curve (area = %0.2f)' %auc(fpr, tpr))\n",
    "plt.plot([0, 1], [0, 1], color='navy', lw=lw, linestyle='--')\n",
    "plt.xlim([0.0, 1.0])\n",
    "plt.ylim([0.0, 1.05])\n",
    "plt.xlabel('False Positive Rate')\n",
    "plt.ylabel('True Positive Rate')\n",
    "plt.title('Test Receiver operating characteristic')\n",
    "plt.legend(loc=\"lower right\")\n",
    "plt.show()"
   ]
  },
  {
   "cell_type": "markdown",
   "metadata": {},
   "source": [
    "### V. One can expect that supervised learning on the full data set works better than  semi-supervised learning with half of the data set labeled.One can expects that unsupervised learning underperforms in such situations. Compare the results you obtained by those methods.\n"
   ]
  },
  {
   "cell_type": "code",
   "execution_count": 60,
   "metadata": {},
   "outputs": [
    {
     "data": {
      "text/html": [
       "<div>\n",
       "<style scoped>\n",
       "    .dataframe tbody tr th:only-of-type {\n",
       "        vertical-align: middle;\n",
       "    }\n",
       "\n",
       "    .dataframe tbody tr th {\n",
       "        vertical-align: top;\n",
       "    }\n",
       "\n",
       "    .dataframe thead th {\n",
       "        text-align: right;\n",
       "    }\n",
       "</style>\n",
       "<table border=\"1\" class=\"dataframe\">\n",
       "  <thead>\n",
       "    <tr style=\"text-align: right;\">\n",
       "      <th></th>\n",
       "      <th>Method</th>\n",
       "      <th>Test Accuracy</th>\n",
       "      <th>Train Accuracy</th>\n",
       "    </tr>\n",
       "  </thead>\n",
       "  <tbody>\n",
       "    <tr>\n",
       "      <th>0</th>\n",
       "      <td>Supervised Learning</td>\n",
       "      <td>0.99</td>\n",
       "      <td>0.96</td>\n",
       "    </tr>\n",
       "    <tr>\n",
       "      <th>1</th>\n",
       "      <td>Semi-supervised Learning</td>\n",
       "      <td>0.83</td>\n",
       "      <td>0.92</td>\n",
       "    </tr>\n",
       "    <tr>\n",
       "      <th>2</th>\n",
       "      <td>Unsupervised Learning</td>\n",
       "      <td>0.85</td>\n",
       "      <td>0.81</td>\n",
       "    </tr>\n",
       "    <tr>\n",
       "      <th>3</th>\n",
       "      <td>Spectral Clustering</td>\n",
       "      <td>0.84</td>\n",
       "      <td>0.84</td>\n",
       "    </tr>\n",
       "  </tbody>\n",
       "</table>\n",
       "</div>"
      ],
      "text/plain": [
       "                     Method  Test Accuracy  Train Accuracy\n",
       "0       Supervised Learning           0.99            0.96\n",
       "1  Semi-supervised Learning           0.83            0.92\n",
       "2     Unsupervised Learning           0.85            0.81\n",
       "3       Spectral Clustering           0.84            0.84"
      ]
     },
     "execution_count": 60,
     "metadata": {},
     "output_type": "execute_result"
    }
   ],
   "source": [
    "pd.DataFrame({\"Method\":['Supervised Learning','Semi-supervised Learning','Unsupervised Learning','Spectral Clustering'],\"Test Accuracy\":[0.99,0.83,0.85,0.84],\"Train Accuracy\":[0.96,0.92,0.81,0.84]})"
   ]
  },
  {
   "cell_type": "code",
   "execution_count": null,
   "metadata": {},
   "outputs": [],
   "source": []
  }
 ],
 "metadata": {
  "kernelspec": {
   "display_name": "Python 3",
   "language": "python",
   "name": "python3"
  },
  "language_info": {
   "codemirror_mode": {
    "name": "ipython",
    "version": 3
   },
   "file_extension": ".py",
   "mimetype": "text/x-python",
   "name": "python",
   "nbconvert_exporter": "python",
   "pygments_lexer": "ipython3",
   "version": "3.7.0"
  }
 },
 "nbformat": 4,
 "nbformat_minor": 2
}
